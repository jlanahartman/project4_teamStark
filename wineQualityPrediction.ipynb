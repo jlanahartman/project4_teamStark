{
  "nbformat": 4,
  "nbformat_minor": 0,
  "metadata": {
    "colab": {
      "provenance": []
    },
    "kernelspec": {
      "name": "python3",
      "display_name": "Python 3"
    },
    "language_info": {
      "name": "python"
    }
  },
  "cells": [
    {
      "cell_type": "code",
      "execution_count": 1,
      "metadata": {
        "id": "6nOBdAgM-dfT"
      },
      "outputs": [],
      "source": [
        "# Import our dependencies\n",
        "from sklearn.model_selection import train_test_split\n",
        "from sklearn.preprocessing import StandardScaler\n",
        "import pandas as pd\n",
        "import tensorflow as tf"
      ]
    },
    {
      "cell_type": "code",
      "source": [
        "# read the wine data CSV file\n",
        "wineDF = pd.read_csv(\"winequality-red.csv\")\n",
        "\n",
        "wineDF.head()\n"
      ],
      "metadata": {
        "colab": {
          "base_uri": "https://localhost:8080/",
          "height": 305
        },
        "id": "OEG-pR6S_Ijq",
        "outputId": "55ce3d06-fc08-4391-c583-afb4f54a868c"
      },
      "execution_count": 2,
      "outputs": [
        {
          "output_type": "execute_result",
          "data": {
            "text/plain": [
              "   fixed acidity  volatile acidity  citric acid  residual sugar  chlorides  \\\n",
              "0            7.4              0.70         0.00             1.9      0.076   \n",
              "1            7.8              0.88         0.00             2.6      0.098   \n",
              "2            7.8              0.76         0.04             2.3      0.092   \n",
              "3           11.2              0.28         0.56             1.9      0.075   \n",
              "4            7.4              0.70         0.00             1.9      0.076   \n",
              "\n",
              "   free sulfur dioxide  total sulfur dioxide  density    pH  sulphates  \\\n",
              "0                 11.0                  34.0   0.9978  3.51       0.56   \n",
              "1                 25.0                  67.0   0.9968  3.20       0.68   \n",
              "2                 15.0                  54.0   0.9970  3.26       0.65   \n",
              "3                 17.0                  60.0   0.9980  3.16       0.58   \n",
              "4                 11.0                  34.0   0.9978  3.51       0.56   \n",
              "\n",
              "   alcohol  quality  \n",
              "0      9.4        5  \n",
              "1      9.8        5  \n",
              "2      9.8        5  \n",
              "3      9.8        6  \n",
              "4      9.4        5  "
            ],
            "text/html": [
              "\n",
              "  <div id=\"df-97885b00-63d6-402e-bee0-492c372deef2\">\n",
              "    <div class=\"colab-df-container\">\n",
              "      <div>\n",
              "<style scoped>\n",
              "    .dataframe tbody tr th:only-of-type {\n",
              "        vertical-align: middle;\n",
              "    }\n",
              "\n",
              "    .dataframe tbody tr th {\n",
              "        vertical-align: top;\n",
              "    }\n",
              "\n",
              "    .dataframe thead th {\n",
              "        text-align: right;\n",
              "    }\n",
              "</style>\n",
              "<table border=\"1\" class=\"dataframe\">\n",
              "  <thead>\n",
              "    <tr style=\"text-align: right;\">\n",
              "      <th></th>\n",
              "      <th>fixed acidity</th>\n",
              "      <th>volatile acidity</th>\n",
              "      <th>citric acid</th>\n",
              "      <th>residual sugar</th>\n",
              "      <th>chlorides</th>\n",
              "      <th>free sulfur dioxide</th>\n",
              "      <th>total sulfur dioxide</th>\n",
              "      <th>density</th>\n",
              "      <th>pH</th>\n",
              "      <th>sulphates</th>\n",
              "      <th>alcohol</th>\n",
              "      <th>quality</th>\n",
              "    </tr>\n",
              "  </thead>\n",
              "  <tbody>\n",
              "    <tr>\n",
              "      <th>0</th>\n",
              "      <td>7.4</td>\n",
              "      <td>0.70</td>\n",
              "      <td>0.00</td>\n",
              "      <td>1.9</td>\n",
              "      <td>0.076</td>\n",
              "      <td>11.0</td>\n",
              "      <td>34.0</td>\n",
              "      <td>0.9978</td>\n",
              "      <td>3.51</td>\n",
              "      <td>0.56</td>\n",
              "      <td>9.4</td>\n",
              "      <td>5</td>\n",
              "    </tr>\n",
              "    <tr>\n",
              "      <th>1</th>\n",
              "      <td>7.8</td>\n",
              "      <td>0.88</td>\n",
              "      <td>0.00</td>\n",
              "      <td>2.6</td>\n",
              "      <td>0.098</td>\n",
              "      <td>25.0</td>\n",
              "      <td>67.0</td>\n",
              "      <td>0.9968</td>\n",
              "      <td>3.20</td>\n",
              "      <td>0.68</td>\n",
              "      <td>9.8</td>\n",
              "      <td>5</td>\n",
              "    </tr>\n",
              "    <tr>\n",
              "      <th>2</th>\n",
              "      <td>7.8</td>\n",
              "      <td>0.76</td>\n",
              "      <td>0.04</td>\n",
              "      <td>2.3</td>\n",
              "      <td>0.092</td>\n",
              "      <td>15.0</td>\n",
              "      <td>54.0</td>\n",
              "      <td>0.9970</td>\n",
              "      <td>3.26</td>\n",
              "      <td>0.65</td>\n",
              "      <td>9.8</td>\n",
              "      <td>5</td>\n",
              "    </tr>\n",
              "    <tr>\n",
              "      <th>3</th>\n",
              "      <td>11.2</td>\n",
              "      <td>0.28</td>\n",
              "      <td>0.56</td>\n",
              "      <td>1.9</td>\n",
              "      <td>0.075</td>\n",
              "      <td>17.0</td>\n",
              "      <td>60.0</td>\n",
              "      <td>0.9980</td>\n",
              "      <td>3.16</td>\n",
              "      <td>0.58</td>\n",
              "      <td>9.8</td>\n",
              "      <td>6</td>\n",
              "    </tr>\n",
              "    <tr>\n",
              "      <th>4</th>\n",
              "      <td>7.4</td>\n",
              "      <td>0.70</td>\n",
              "      <td>0.00</td>\n",
              "      <td>1.9</td>\n",
              "      <td>0.076</td>\n",
              "      <td>11.0</td>\n",
              "      <td>34.0</td>\n",
              "      <td>0.9978</td>\n",
              "      <td>3.51</td>\n",
              "      <td>0.56</td>\n",
              "      <td>9.4</td>\n",
              "      <td>5</td>\n",
              "    </tr>\n",
              "  </tbody>\n",
              "</table>\n",
              "</div>\n",
              "      <button class=\"colab-df-convert\" onclick=\"convertToInteractive('df-97885b00-63d6-402e-bee0-492c372deef2')\"\n",
              "              title=\"Convert this dataframe to an interactive table.\"\n",
              "              style=\"display:none;\">\n",
              "        \n",
              "  <svg xmlns=\"http://www.w3.org/2000/svg\" height=\"24px\"viewBox=\"0 0 24 24\"\n",
              "       width=\"24px\">\n",
              "    <path d=\"M0 0h24v24H0V0z\" fill=\"none\"/>\n",
              "    <path d=\"M18.56 5.44l.94 2.06.94-2.06 2.06-.94-2.06-.94-.94-2.06-.94 2.06-2.06.94zm-11 1L8.5 8.5l.94-2.06 2.06-.94-2.06-.94L8.5 2.5l-.94 2.06-2.06.94zm10 10l.94 2.06.94-2.06 2.06-.94-2.06-.94-.94-2.06-.94 2.06-2.06.94z\"/><path d=\"M17.41 7.96l-1.37-1.37c-.4-.4-.92-.59-1.43-.59-.52 0-1.04.2-1.43.59L10.3 9.45l-7.72 7.72c-.78.78-.78 2.05 0 2.83L4 21.41c.39.39.9.59 1.41.59.51 0 1.02-.2 1.41-.59l7.78-7.78 2.81-2.81c.8-.78.8-2.07 0-2.86zM5.41 20L4 18.59l7.72-7.72 1.47 1.35L5.41 20z\"/>\n",
              "  </svg>\n",
              "      </button>\n",
              "      \n",
              "  <style>\n",
              "    .colab-df-container {\n",
              "      display:flex;\n",
              "      flex-wrap:wrap;\n",
              "      gap: 12px;\n",
              "    }\n",
              "\n",
              "    .colab-df-convert {\n",
              "      background-color: #E8F0FE;\n",
              "      border: none;\n",
              "      border-radius: 50%;\n",
              "      cursor: pointer;\n",
              "      display: none;\n",
              "      fill: #1967D2;\n",
              "      height: 32px;\n",
              "      padding: 0 0 0 0;\n",
              "      width: 32px;\n",
              "    }\n",
              "\n",
              "    .colab-df-convert:hover {\n",
              "      background-color: #E2EBFA;\n",
              "      box-shadow: 0px 1px 2px rgba(60, 64, 67, 0.3), 0px 1px 3px 1px rgba(60, 64, 67, 0.15);\n",
              "      fill: #174EA6;\n",
              "    }\n",
              "\n",
              "    [theme=dark] .colab-df-convert {\n",
              "      background-color: #3B4455;\n",
              "      fill: #D2E3FC;\n",
              "    }\n",
              "\n",
              "    [theme=dark] .colab-df-convert:hover {\n",
              "      background-color: #434B5C;\n",
              "      box-shadow: 0px 1px 3px 1px rgba(0, 0, 0, 0.15);\n",
              "      filter: drop-shadow(0px 1px 2px rgba(0, 0, 0, 0.3));\n",
              "      fill: #FFFFFF;\n",
              "    }\n",
              "  </style>\n",
              "\n",
              "      <script>\n",
              "        const buttonEl =\n",
              "          document.querySelector('#df-97885b00-63d6-402e-bee0-492c372deef2 button.colab-df-convert');\n",
              "        buttonEl.style.display =\n",
              "          google.colab.kernel.accessAllowed ? 'block' : 'none';\n",
              "\n",
              "        async function convertToInteractive(key) {\n",
              "          const element = document.querySelector('#df-97885b00-63d6-402e-bee0-492c372deef2');\n",
              "          const dataTable =\n",
              "            await google.colab.kernel.invokeFunction('convertToInteractive',\n",
              "                                                     [key], {});\n",
              "          if (!dataTable) return;\n",
              "\n",
              "          const docLinkHtml = 'Like what you see? Visit the ' +\n",
              "            '<a target=\"_blank\" href=https://colab.research.google.com/notebooks/data_table.ipynb>data table notebook</a>'\n",
              "            + ' to learn more about interactive tables.';\n",
              "          element.innerHTML = '';\n",
              "          dataTable['output_type'] = 'display_data';\n",
              "          await google.colab.output.renderOutput(dataTable, element);\n",
              "          const docLink = document.createElement('div');\n",
              "          docLink.innerHTML = docLinkHtml;\n",
              "          element.appendChild(docLink);\n",
              "        }\n",
              "      </script>\n",
              "    </div>\n",
              "  </div>\n",
              "  "
            ]
          },
          "metadata": {},
          "execution_count": 2
        }
      ]
    },
    {
      "cell_type": "code",
      "source": [
        "# split the data into y (quality) X (all other columns)\n",
        "y = wineDF[\"quality\"]\n",
        "X = wineDF.drop(columns=\"quality\")"
      ],
      "metadata": {
        "id": "c9xwmNg-_93y"
      },
      "execution_count": 3,
      "outputs": []
    },
    {
      "cell_type": "code",
      "source": [
        "y[:5]"
      ],
      "metadata": {
        "colab": {
          "base_uri": "https://localhost:8080/"
        },
        "id": "bPsV_n0yCK8v",
        "outputId": "79b6b58f-23d6-4fae-e0b6-be4823d1d36c"
      },
      "execution_count": 4,
      "outputs": [
        {
          "output_type": "execute_result",
          "data": {
            "text/plain": [
              "0    5\n",
              "1    5\n",
              "2    5\n",
              "3    6\n",
              "4    5\n",
              "Name: quality, dtype: int64"
            ]
          },
          "metadata": {},
          "execution_count": 4
        }
      ]
    },
    {
      "cell_type": "code",
      "source": [
        "X[:5]"
      ],
      "metadata": {
        "colab": {
          "base_uri": "https://localhost:8080/",
          "height": 305
        },
        "id": "AFTw31GdCNCI",
        "outputId": "ca4f7812-5b3e-4f1a-e91c-3aa99629956c"
      },
      "execution_count": 5,
      "outputs": [
        {
          "output_type": "execute_result",
          "data": {
            "text/plain": [
              "   fixed acidity  volatile acidity  citric acid  residual sugar  chlorides  \\\n",
              "0            7.4              0.70         0.00             1.9      0.076   \n",
              "1            7.8              0.88         0.00             2.6      0.098   \n",
              "2            7.8              0.76         0.04             2.3      0.092   \n",
              "3           11.2              0.28         0.56             1.9      0.075   \n",
              "4            7.4              0.70         0.00             1.9      0.076   \n",
              "\n",
              "   free sulfur dioxide  total sulfur dioxide  density    pH  sulphates  \\\n",
              "0                 11.0                  34.0   0.9978  3.51       0.56   \n",
              "1                 25.0                  67.0   0.9968  3.20       0.68   \n",
              "2                 15.0                  54.0   0.9970  3.26       0.65   \n",
              "3                 17.0                  60.0   0.9980  3.16       0.58   \n",
              "4                 11.0                  34.0   0.9978  3.51       0.56   \n",
              "\n",
              "   alcohol  \n",
              "0      9.4  \n",
              "1      9.8  \n",
              "2      9.8  \n",
              "3      9.8  \n",
              "4      9.4  "
            ],
            "text/html": [
              "\n",
              "  <div id=\"df-65160c1a-370d-4b0b-a2c3-a06446da3489\">\n",
              "    <div class=\"colab-df-container\">\n",
              "      <div>\n",
              "<style scoped>\n",
              "    .dataframe tbody tr th:only-of-type {\n",
              "        vertical-align: middle;\n",
              "    }\n",
              "\n",
              "    .dataframe tbody tr th {\n",
              "        vertical-align: top;\n",
              "    }\n",
              "\n",
              "    .dataframe thead th {\n",
              "        text-align: right;\n",
              "    }\n",
              "</style>\n",
              "<table border=\"1\" class=\"dataframe\">\n",
              "  <thead>\n",
              "    <tr style=\"text-align: right;\">\n",
              "      <th></th>\n",
              "      <th>fixed acidity</th>\n",
              "      <th>volatile acidity</th>\n",
              "      <th>citric acid</th>\n",
              "      <th>residual sugar</th>\n",
              "      <th>chlorides</th>\n",
              "      <th>free sulfur dioxide</th>\n",
              "      <th>total sulfur dioxide</th>\n",
              "      <th>density</th>\n",
              "      <th>pH</th>\n",
              "      <th>sulphates</th>\n",
              "      <th>alcohol</th>\n",
              "    </tr>\n",
              "  </thead>\n",
              "  <tbody>\n",
              "    <tr>\n",
              "      <th>0</th>\n",
              "      <td>7.4</td>\n",
              "      <td>0.70</td>\n",
              "      <td>0.00</td>\n",
              "      <td>1.9</td>\n",
              "      <td>0.076</td>\n",
              "      <td>11.0</td>\n",
              "      <td>34.0</td>\n",
              "      <td>0.9978</td>\n",
              "      <td>3.51</td>\n",
              "      <td>0.56</td>\n",
              "      <td>9.4</td>\n",
              "    </tr>\n",
              "    <tr>\n",
              "      <th>1</th>\n",
              "      <td>7.8</td>\n",
              "      <td>0.88</td>\n",
              "      <td>0.00</td>\n",
              "      <td>2.6</td>\n",
              "      <td>0.098</td>\n",
              "      <td>25.0</td>\n",
              "      <td>67.0</td>\n",
              "      <td>0.9968</td>\n",
              "      <td>3.20</td>\n",
              "      <td>0.68</td>\n",
              "      <td>9.8</td>\n",
              "    </tr>\n",
              "    <tr>\n",
              "      <th>2</th>\n",
              "      <td>7.8</td>\n",
              "      <td>0.76</td>\n",
              "      <td>0.04</td>\n",
              "      <td>2.3</td>\n",
              "      <td>0.092</td>\n",
              "      <td>15.0</td>\n",
              "      <td>54.0</td>\n",
              "      <td>0.9970</td>\n",
              "      <td>3.26</td>\n",
              "      <td>0.65</td>\n",
              "      <td>9.8</td>\n",
              "    </tr>\n",
              "    <tr>\n",
              "      <th>3</th>\n",
              "      <td>11.2</td>\n",
              "      <td>0.28</td>\n",
              "      <td>0.56</td>\n",
              "      <td>1.9</td>\n",
              "      <td>0.075</td>\n",
              "      <td>17.0</td>\n",
              "      <td>60.0</td>\n",
              "      <td>0.9980</td>\n",
              "      <td>3.16</td>\n",
              "      <td>0.58</td>\n",
              "      <td>9.8</td>\n",
              "    </tr>\n",
              "    <tr>\n",
              "      <th>4</th>\n",
              "      <td>7.4</td>\n",
              "      <td>0.70</td>\n",
              "      <td>0.00</td>\n",
              "      <td>1.9</td>\n",
              "      <td>0.076</td>\n",
              "      <td>11.0</td>\n",
              "      <td>34.0</td>\n",
              "      <td>0.9978</td>\n",
              "      <td>3.51</td>\n",
              "      <td>0.56</td>\n",
              "      <td>9.4</td>\n",
              "    </tr>\n",
              "  </tbody>\n",
              "</table>\n",
              "</div>\n",
              "      <button class=\"colab-df-convert\" onclick=\"convertToInteractive('df-65160c1a-370d-4b0b-a2c3-a06446da3489')\"\n",
              "              title=\"Convert this dataframe to an interactive table.\"\n",
              "              style=\"display:none;\">\n",
              "        \n",
              "  <svg xmlns=\"http://www.w3.org/2000/svg\" height=\"24px\"viewBox=\"0 0 24 24\"\n",
              "       width=\"24px\">\n",
              "    <path d=\"M0 0h24v24H0V0z\" fill=\"none\"/>\n",
              "    <path d=\"M18.56 5.44l.94 2.06.94-2.06 2.06-.94-2.06-.94-.94-2.06-.94 2.06-2.06.94zm-11 1L8.5 8.5l.94-2.06 2.06-.94-2.06-.94L8.5 2.5l-.94 2.06-2.06.94zm10 10l.94 2.06.94-2.06 2.06-.94-2.06-.94-.94-2.06-.94 2.06-2.06.94z\"/><path d=\"M17.41 7.96l-1.37-1.37c-.4-.4-.92-.59-1.43-.59-.52 0-1.04.2-1.43.59L10.3 9.45l-7.72 7.72c-.78.78-.78 2.05 0 2.83L4 21.41c.39.39.9.59 1.41.59.51 0 1.02-.2 1.41-.59l7.78-7.78 2.81-2.81c.8-.78.8-2.07 0-2.86zM5.41 20L4 18.59l7.72-7.72 1.47 1.35L5.41 20z\"/>\n",
              "  </svg>\n",
              "      </button>\n",
              "      \n",
              "  <style>\n",
              "    .colab-df-container {\n",
              "      display:flex;\n",
              "      flex-wrap:wrap;\n",
              "      gap: 12px;\n",
              "    }\n",
              "\n",
              "    .colab-df-convert {\n",
              "      background-color: #E8F0FE;\n",
              "      border: none;\n",
              "      border-radius: 50%;\n",
              "      cursor: pointer;\n",
              "      display: none;\n",
              "      fill: #1967D2;\n",
              "      height: 32px;\n",
              "      padding: 0 0 0 0;\n",
              "      width: 32px;\n",
              "    }\n",
              "\n",
              "    .colab-df-convert:hover {\n",
              "      background-color: #E2EBFA;\n",
              "      box-shadow: 0px 1px 2px rgba(60, 64, 67, 0.3), 0px 1px 3px 1px rgba(60, 64, 67, 0.15);\n",
              "      fill: #174EA6;\n",
              "    }\n",
              "\n",
              "    [theme=dark] .colab-df-convert {\n",
              "      background-color: #3B4455;\n",
              "      fill: #D2E3FC;\n",
              "    }\n",
              "\n",
              "    [theme=dark] .colab-df-convert:hover {\n",
              "      background-color: #434B5C;\n",
              "      box-shadow: 0px 1px 3px 1px rgba(0, 0, 0, 0.15);\n",
              "      filter: drop-shadow(0px 1px 2px rgba(0, 0, 0, 0.3));\n",
              "      fill: #FFFFFF;\n",
              "    }\n",
              "  </style>\n",
              "\n",
              "      <script>\n",
              "        const buttonEl =\n",
              "          document.querySelector('#df-65160c1a-370d-4b0b-a2c3-a06446da3489 button.colab-df-convert');\n",
              "        buttonEl.style.display =\n",
              "          google.colab.kernel.accessAllowed ? 'block' : 'none';\n",
              "\n",
              "        async function convertToInteractive(key) {\n",
              "          const element = document.querySelector('#df-65160c1a-370d-4b0b-a2c3-a06446da3489');\n",
              "          const dataTable =\n",
              "            await google.colab.kernel.invokeFunction('convertToInteractive',\n",
              "                                                     [key], {});\n",
              "          if (!dataTable) return;\n",
              "\n",
              "          const docLinkHtml = 'Like what you see? Visit the ' +\n",
              "            '<a target=\"_blank\" href=https://colab.research.google.com/notebooks/data_table.ipynb>data table notebook</a>'\n",
              "            + ' to learn more about interactive tables.';\n",
              "          element.innerHTML = '';\n",
              "          dataTable['output_type'] = 'display_data';\n",
              "          await google.colab.output.renderOutput(dataTable, element);\n",
              "          const docLink = document.createElement('div');\n",
              "          docLink.innerHTML = docLinkHtml;\n",
              "          element.appendChild(docLink);\n",
              "        }\n",
              "      </script>\n",
              "    </div>\n",
              "  </div>\n",
              "  "
            ]
          },
          "metadata": {},
          "execution_count": 5
        }
      ]
    },
    {
      "cell_type": "code",
      "source": [
        "# Split the data\n",
        "x_train, x_test, y_train, y_test = train_test_split(X, y, test_size=0.2, random_state=42, stratify=y)"
      ],
      "metadata": {
        "id": "50ll3amMCVVK"
      },
      "execution_count": 6,
      "outputs": []
    },
    {
      "cell_type": "code",
      "source": [
        "# make the standardScaler object\n",
        "scaler = StandardScaler()"
      ],
      "metadata": {
        "id": "Pp7bVr6NDHfI"
      },
      "execution_count": 7,
      "outputs": []
    },
    {
      "cell_type": "code",
      "source": [
        "# fit the data onto the training data\n",
        "xScaler = scaler.fit(x_train)"
      ],
      "metadata": {
        "id": "FusjJcKSD2Qg"
      },
      "execution_count": 8,
      "outputs": []
    },
    {
      "cell_type": "code",
      "source": [
        "# scale the data using .transform function\n",
        "x_train_scaled = xScaler.transform(x_train)\n",
        "x_test_scaled = xScaler.transform(x_test)"
      ],
      "metadata": {
        "id": "mjWBV_mTD6PN"
      },
      "execution_count": 9,
      "outputs": []
    },
    {
      "cell_type": "code",
      "source": [
        "from sklearn.ensemble import RandomForestRegressor\n",
        "from sklearn.metrics import mean_squared_error, mean_absolute_error, r2_score\n",
        "\n",
        "# Initialize the RandomForestRegressor model with desired hyperparameters\n",
        "model = RandomForestRegressor(n_estimators=100, max_depth=10, random_state=42)\n",
        "\n",
        "# Train the model on the scaled training data\n",
        "model.fit(x_train_scaled, y_train)\n",
        "\n",
        "# Make predictions on the scaled testing data\n",
        "y_pred = model.predict(x_test_scaled)\n",
        "\n",
        "# Evaluate the model's performance\n",
        "mse = mean_squared_error(y_test, y_pred)\n",
        "rmse = mean_squared_error(y_test, y_pred, squared=False)\n",
        "mae = mean_absolute_error(y_test, y_pred)\n",
        "r2 = r2_score(y_test, y_pred)\n",
        "\n",
        "# Print the evaluation metrics\n",
        "print(\"RandomForestRegressor Evaluation Metrics:\")\n",
        "print(f\"MSE: {mse}\")\n",
        "print(f\"RMSE: {rmse}\")\n",
        "print(f\"MAE: {mae}\")\n",
        "print(f\"R-squared: {r2}\")\n",
        "\n"
      ],
      "metadata": {
        "colab": {
          "base_uri": "https://localhost:8080/"
        },
        "id": "J2kN2quYFwuz",
        "outputId": "4eb1a880-c8d1-4429-f28e-1174f341575c"
      },
      "execution_count": 10,
      "outputs": [
        {
          "output_type": "stream",
          "name": "stdout",
          "text": [
            "RandomForestRegressor Evaluation Metrics:\n",
            "MSE: 0.3337913324666683\n",
            "RMSE: 0.5777467719223262\n",
            "MAE: 0.43659240640828384\n",
            "R-squared: 0.48271335364448764\n"
          ]
        }
      ]
    },
    {
      "cell_type": "code",
      "source": [
        "# import the tree Classifier module\n",
        "from sklearn import tree"
      ],
      "metadata": {
        "id": "WR0Vdv_yHm6M"
      },
      "execution_count": 11,
      "outputs": []
    },
    {
      "cell_type": "code",
      "source": [
        "# make an object to hold the decision tree classifier using the .DecisionTreeClassifier function\n",
        "treeModel = tree.DecisionTreeClassifier()"
      ],
      "metadata": {
        "id": "H5xj7QQWHv-m"
      },
      "execution_count": 12,
      "outputs": []
    },
    {
      "cell_type": "code",
      "source": [
        "# use .fit() to fit the model on our scaled x training data and the ytraining data\n",
        "treeModel = treeModel.fit(x_train_scaled, y_train)"
      ],
      "metadata": {
        "id": "sg5aGHgDHyAA"
      },
      "execution_count": 13,
      "outputs": []
    },
    {
      "cell_type": "code",
      "source": [
        "# make a list of predicted values\n",
        "predictedValues = treeModel.predict(x_test_scaled)\n",
        "predictedValues[:3]"
      ],
      "metadata": {
        "colab": {
          "base_uri": "https://localhost:8080/"
        },
        "id": "fcJhhg3WH1B3",
        "outputId": "fa1aeeb8-9175-494d-ed8b-146d8caa3331"
      },
      "execution_count": 14,
      "outputs": [
        {
          "output_type": "execute_result",
          "data": {
            "text/plain": [
              "array([7, 6, 4])"
            ]
          },
          "metadata": {},
          "execution_count": 14
        }
      ]
    },
    {
      "cell_type": "code",
      "source": [
        "predictedValues"
      ],
      "metadata": {
        "colab": {
          "base_uri": "https://localhost:8080/"
        },
        "id": "e70IMulMH5C2",
        "outputId": "33de7c53-5438-41e3-cfc9-8f0056afef73"
      },
      "execution_count": 15,
      "outputs": [
        {
          "output_type": "execute_result",
          "data": {
            "text/plain": [
              "array([7, 6, 4, 6, 5, 7, 6, 5, 6, 8, 4, 6, 5, 6, 5, 6, 6, 5, 7, 7, 6, 6,\n",
              "       5, 6, 5, 6, 5, 7, 6, 5, 5, 5, 6, 6, 7, 5, 5, 7, 5, 5, 6, 5, 6, 6,\n",
              "       6, 7, 7, 6, 5, 5, 5, 7, 5, 5, 5, 5, 4, 6, 5, 6, 6, 6, 6, 5, 6, 5,\n",
              "       6, 5, 5, 6, 6, 6, 6, 6, 5, 6, 6, 6, 5, 5, 5, 6, 5, 6, 5, 5, 6, 6,\n",
              "       7, 6, 5, 5, 6, 7, 5, 5, 5, 5, 6, 4, 8, 6, 7, 7, 6, 8, 7, 7, 7, 6,\n",
              "       5, 5, 5, 5, 7, 6, 4, 5, 7, 7, 7, 6, 4, 5, 6, 7, 7, 5, 6, 7, 5, 5,\n",
              "       5, 7, 7, 6, 5, 7, 5, 4, 5, 6, 6, 5, 7, 6, 5, 6, 5, 6, 8, 5, 5, 6,\n",
              "       5, 5, 5, 5, 8, 6, 6, 5, 5, 8, 6, 7, 5, 6, 5, 6, 6, 5, 6, 6, 6, 6,\n",
              "       8, 5, 7, 6, 7, 5, 6, 5, 5, 6, 5, 5, 6, 8, 6, 5, 5, 5, 5, 8, 6, 5,\n",
              "       5, 5, 7, 5, 6, 6, 5, 6, 5, 5, 7, 6, 5, 6, 5, 6, 5, 3, 5, 5, 7, 6,\n",
              "       6, 4, 5, 5, 5, 7, 6, 7, 7, 6, 5, 5, 7, 7, 5, 6, 5, 7, 6, 5, 5, 5,\n",
              "       5, 6, 5, 5, 7, 6, 7, 6, 5, 5, 6, 5, 7, 6, 5, 6, 6, 6, 6, 6, 6, 5,\n",
              "       6, 6, 6, 6, 5, 6, 6, 6, 6, 6, 5, 6, 6, 5, 6, 5, 6, 5, 5, 6, 7, 6,\n",
              "       6, 6, 6, 5, 5, 7, 5, 6, 5, 6, 5, 5, 5, 7, 5, 4, 5, 6, 5, 6, 5, 5,\n",
              "       7, 6, 6, 6, 6, 6, 5, 6, 5, 6, 6, 5])"
            ]
          },
          "metadata": {},
          "execution_count": 15
        }
      ]
    },
    {
      "cell_type": "code",
      "source": [
        "# import the modules for the accuracy score and classification report\n",
        "from sklearn.metrics import accuracy_score, classification_report"
      ],
      "metadata": {
        "id": "OI-raECMH8iG"
      },
      "execution_count": 16,
      "outputs": []
    },
    {
      "cell_type": "code",
      "source": [
        "# calculate the accuracy score\n",
        "treeAccuracyScore = accuracy_score(y_test, predictedValues)\n",
        "print(f\"Decision Tree Accuracy Score: {treeAccuracyScore * 100:.2f}%\")"
      ],
      "metadata": {
        "colab": {
          "base_uri": "https://localhost:8080/"
        },
        "id": "E96reklRH-6e",
        "outputId": "8c2eb923-408e-411c-bf14-43896c981ff4"
      },
      "execution_count": 17,
      "outputs": [
        {
          "output_type": "stream",
          "name": "stdout",
          "text": [
            "Decision Tree Accuracy Score: 61.25%\n"
          ]
        }
      ]
    },
    {
      "cell_type": "code",
      "source": [
        "# classification report\n",
        "print(classification_report(y_test, predictedValues))"
      ],
      "metadata": {
        "colab": {
          "base_uri": "https://localhost:8080/"
        },
        "id": "2qr9BS2gIDdQ",
        "outputId": "dec3f377-36f9-48a3-a71f-4a4255770649"
      },
      "execution_count": 18,
      "outputs": [
        {
          "output_type": "stream",
          "name": "stdout",
          "text": [
            "              precision    recall  f1-score   support\n",
            "\n",
            "           3       0.00      0.00      0.00         2\n",
            "           4       0.22      0.18      0.20        11\n",
            "           5       0.71      0.67      0.69       136\n",
            "           6       0.61      0.59      0.60       128\n",
            "           7       0.55      0.65      0.60        40\n",
            "           8       0.11      0.33      0.17         3\n",
            "\n",
            "    accuracy                           0.61       320\n",
            "   macro avg       0.37      0.40      0.38       320\n",
            "weighted avg       0.62      0.61      0.62       320\n",
            "\n"
          ]
        }
      ]
    },
    {
      "cell_type": "code",
      "source": [
        "# attempt to improve the prerformance using an ensemble classifier (Random Forest)\n",
        "# import the random forest classifier module\n",
        "from sklearn.ensemble import RandomForestClassifier"
      ],
      "metadata": {
        "id": "_1dun_fSIYA0"
      },
      "execution_count": 19,
      "outputs": []
    },
    {
      "cell_type": "code",
      "source": [
        "# make the random forest classifier model - use 500 estimators\n",
        "rfModel =  RandomForestClassifier(n_estimators=500, random_state=42)"
      ],
      "metadata": {
        "id": "snE9uyKjIaHy"
      },
      "execution_count": 20,
      "outputs": []
    },
    {
      "cell_type": "code",
      "source": [
        "# fit the model on the scaled trained data\n",
        "rfModel = rfModel.fit(x_train_scaled, y_train)"
      ],
      "metadata": {
        "id": "RGFBJCPeIcAu"
      },
      "execution_count": 21,
      "outputs": []
    },
    {
      "cell_type": "code",
      "source": [
        "# make a list of predicted values using the scaled testing data\n",
        "rfPredictedValues = rfModel.predict(x_test_scaled)\n",
        "rfPredictedValues[:3]"
      ],
      "metadata": {
        "colab": {
          "base_uri": "https://localhost:8080/"
        },
        "id": "sk2GdmzlIeZV",
        "outputId": "fa0c95fe-1e82-46b3-ef97-05352c285c8b"
      },
      "execution_count": 22,
      "outputs": [
        {
          "output_type": "execute_result",
          "data": {
            "text/plain": [
              "array([6, 6, 5])"
            ]
          },
          "metadata": {},
          "execution_count": 22
        }
      ]
    },
    {
      "cell_type": "code",
      "source": [
        "# check the accuracy score\n",
        "rfAccuracyScore = accuracy_score(y_test, rfPredictedValues)\n",
        "print(f\"Random Forest Accuracy Score: {rfAccuracyScore * 100:.2f}%\")"
      ],
      "metadata": {
        "colab": {
          "base_uri": "https://localhost:8080/"
        },
        "id": "hgOfWoIUIg8P",
        "outputId": "6d15c888-d532-468b-bf3a-a9460df4fcb5"
      },
      "execution_count": 23,
      "outputs": [
        {
          "output_type": "stream",
          "name": "stdout",
          "text": [
            "Random Forest Accuracy Score: 67.50%\n"
          ]
        }
      ]
    },
    {
      "cell_type": "code",
      "source": [
        "# check the classification report\n",
        "print(classification_report(y_test, rfPredictedValues))"
      ],
      "metadata": {
        "colab": {
          "base_uri": "https://localhost:8080/"
        },
        "id": "57BFSKJtImR_",
        "outputId": "a668c452-d3d4-44b0-daa0-1e05575507a8"
      },
      "execution_count": 24,
      "outputs": [
        {
          "output_type": "stream",
          "name": "stdout",
          "text": [
            "              precision    recall  f1-score   support\n",
            "\n",
            "           3       0.00      0.00      0.00         2\n",
            "           4       0.00      0.00      0.00        11\n",
            "           5       0.70      0.75      0.72       136\n",
            "           6       0.64      0.72      0.68       128\n",
            "           7       0.78      0.53      0.63        40\n",
            "           8       0.50      0.33      0.40         3\n",
            "\n",
            "    accuracy                           0.68       320\n",
            "   macro avg       0.44      0.39      0.40       320\n",
            "weighted avg       0.65      0.68      0.66       320\n",
            "\n"
          ]
        },
        {
          "output_type": "stream",
          "name": "stderr",
          "text": [
            "/usr/local/lib/python3.10/dist-packages/sklearn/metrics/_classification.py:1344: UndefinedMetricWarning: Precision and F-score are ill-defined and being set to 0.0 in labels with no predicted samples. Use `zero_division` parameter to control this behavior.\n",
            "  _warn_prf(average, modifier, msg_start, len(result))\n",
            "/usr/local/lib/python3.10/dist-packages/sklearn/metrics/_classification.py:1344: UndefinedMetricWarning: Precision and F-score are ill-defined and being set to 0.0 in labels with no predicted samples. Use `zero_division` parameter to control this behavior.\n",
            "  _warn_prf(average, modifier, msg_start, len(result))\n",
            "/usr/local/lib/python3.10/dist-packages/sklearn/metrics/_classification.py:1344: UndefinedMetricWarning: Precision and F-score are ill-defined and being set to 0.0 in labels with no predicted samples. Use `zero_division` parameter to control this behavior.\n",
            "  _warn_prf(average, modifier, msg_start, len(result))\n"
          ]
        }
      ]
    },
    {
      "cell_type": "code",
      "source": [
        "# extract the feature importances from the random forest classifier\n",
        "importantFeatures = rfModel.feature_importances_\n",
        "\n",
        "# sort the features by their importance, zip them, then display them\n",
        "zippedFeatures = sorted(zip(importantFeatures, X.columns), reverse=True)\n",
        "zippedFeatures"
      ],
      "metadata": {
        "colab": {
          "base_uri": "https://localhost:8080/"
        },
        "id": "6wBazUZDI42a",
        "outputId": "9dbcc5cd-a2ec-4259-c3a9-bc898e73a8d4"
      },
      "execution_count": 25,
      "outputs": [
        {
          "output_type": "execute_result",
          "data": {
            "text/plain": [
              "[(0.15013120034318636, 'alcohol'),\n",
              " (0.11050550137030789, 'sulphates'),\n",
              " (0.10588744184231347, 'total sulfur dioxide'),\n",
              " (0.10240114261026227, 'volatile acidity'),\n",
              " (0.08961770969687342, 'density'),\n",
              " (0.0803094366609652, 'chlorides'),\n",
              " (0.07644213772198243, 'pH'),\n",
              " (0.07553100907034485, 'fixed acidity'),\n",
              " (0.07269342722714263, 'residual sugar'),\n",
              " (0.0708693560248985, 'citric acid'),\n",
              " (0.06561163743172306, 'free sulfur dioxide')]"
            ]
          },
          "metadata": {},
          "execution_count": 25
        }
      ]
    },
    {
      "cell_type": "code",
      "source": [
        "# define a basic neural network model: 14 inputs (11 columns) -> 20 neurons on 1 layer -> 1 output (0 or 1)\n",
        "nnModel01 = tf.keras.models.Sequential()"
      ],
      "metadata": {
        "id": "Txg2Pj-YJFgm"
      },
      "execution_count": 26,
      "outputs": []
    },
    {
      "cell_type": "code",
      "source": [
        "# Add the layers\n",
        "nnModel01.add(\n",
        "    tf.keras.layers.Dense(\n",
        "        units=20,\n",
        "        activation='relu',\n",
        "        input_shape=(11,)\n",
        "    )\n",
        ")\n",
        "\n",
        "nnModel01.add(\n",
        "    tf.keras.layers.Dense(\n",
        "        units=1,\n",
        "        activation='linear'\n",
        "    )\n",
        ")"
      ],
      "metadata": {
        "id": "t-aiJv5JW-wO"
      },
      "execution_count": 27,
      "outputs": []
    },
    {
      "cell_type": "code",
      "source": [
        "# Import the required metric\n",
        "from tensorflow.keras.metrics import RootMeanSquaredError\n",
        "\n",
        "# Compile the model\n",
        "nnModel01.compile(loss='mean_squared_error', metrics=['mae', RootMeanSquaredError()])\n",
        "\n",
        "# Train the model\n",
        "fitModel01 = nnModel01.fit(x_train_scaled, y_train, epochs=200)"
      ],
      "metadata": {
        "colab": {
          "base_uri": "https://localhost:8080/"
        },
        "id": "Ur5VftJnXp9o",
        "outputId": "39a272fa-b460-47b1-ff0b-5082d22b2761"
      },
      "execution_count": 31,
      "outputs": [
        {
          "output_type": "stream",
          "name": "stdout",
          "text": [
            "Epoch 1/200\n",
            "40/40 [==============================] - 2s 4ms/step - loss: 0.3127 - mae: 0.4299 - root_mean_squared_error: 0.5592\n",
            "Epoch 2/200\n",
            "40/40 [==============================] - 0s 3ms/step - loss: 0.3099 - mae: 0.4299 - root_mean_squared_error: 0.5567\n",
            "Epoch 3/200\n",
            "40/40 [==============================] - 0s 4ms/step - loss: 0.3113 - mae: 0.4278 - root_mean_squared_error: 0.5579\n",
            "Epoch 4/200\n",
            "40/40 [==============================] - 0s 6ms/step - loss: 0.3101 - mae: 0.4295 - root_mean_squared_error: 0.5569\n",
            "Epoch 5/200\n",
            "40/40 [==============================] - 0s 4ms/step - loss: 0.3094 - mae: 0.4282 - root_mean_squared_error: 0.5563\n",
            "Epoch 6/200\n",
            "40/40 [==============================] - 0s 6ms/step - loss: 0.3110 - mae: 0.4302 - root_mean_squared_error: 0.5577\n",
            "Epoch 7/200\n",
            "40/40 [==============================] - 0s 4ms/step - loss: 0.3097 - mae: 0.4288 - root_mean_squared_error: 0.5565\n",
            "Epoch 8/200\n",
            "40/40 [==============================] - 0s 5ms/step - loss: 0.3095 - mae: 0.4281 - root_mean_squared_error: 0.5563\n",
            "Epoch 9/200\n",
            "40/40 [==============================] - 0s 4ms/step - loss: 0.3100 - mae: 0.4308 - root_mean_squared_error: 0.5568\n",
            "Epoch 10/200\n",
            "40/40 [==============================] - 0s 4ms/step - loss: 0.3097 - mae: 0.4276 - root_mean_squared_error: 0.5566\n",
            "Epoch 11/200\n",
            "40/40 [==============================] - 0s 5ms/step - loss: 0.3090 - mae: 0.4276 - root_mean_squared_error: 0.5558\n",
            "Epoch 12/200\n",
            "40/40 [==============================] - 0s 6ms/step - loss: 0.3103 - mae: 0.4286 - root_mean_squared_error: 0.5571\n",
            "Epoch 13/200\n",
            "40/40 [==============================] - 0s 5ms/step - loss: 0.3091 - mae: 0.4279 - root_mean_squared_error: 0.5560\n",
            "Epoch 14/200\n",
            "40/40 [==============================] - 0s 2ms/step - loss: 0.3092 - mae: 0.4279 - root_mean_squared_error: 0.5561\n",
            "Epoch 15/200\n",
            "40/40 [==============================] - 0s 2ms/step - loss: 0.3105 - mae: 0.4277 - root_mean_squared_error: 0.5572\n",
            "Epoch 16/200\n",
            "40/40 [==============================] - 0s 2ms/step - loss: 0.3081 - mae: 0.4274 - root_mean_squared_error: 0.5551\n",
            "Epoch 17/200\n",
            "40/40 [==============================] - 0s 2ms/step - loss: 0.3086 - mae: 0.4281 - root_mean_squared_error: 0.5555\n",
            "Epoch 18/200\n",
            "40/40 [==============================] - 0s 2ms/step - loss: 0.3095 - mae: 0.4275 - root_mean_squared_error: 0.5563\n",
            "Epoch 19/200\n",
            "40/40 [==============================] - 0s 2ms/step - loss: 0.3086 - mae: 0.4281 - root_mean_squared_error: 0.5555\n",
            "Epoch 20/200\n",
            "40/40 [==============================] - 0s 2ms/step - loss: 0.3098 - mae: 0.4279 - root_mean_squared_error: 0.5566\n",
            "Epoch 21/200\n",
            "40/40 [==============================] - 0s 2ms/step - loss: 0.3102 - mae: 0.4277 - root_mean_squared_error: 0.5570\n",
            "Epoch 22/200\n",
            "40/40 [==============================] - 0s 2ms/step - loss: 0.3085 - mae: 0.4261 - root_mean_squared_error: 0.5554\n",
            "Epoch 23/200\n",
            "40/40 [==============================] - 0s 2ms/step - loss: 0.3090 - mae: 0.4284 - root_mean_squared_error: 0.5559\n",
            "Epoch 24/200\n",
            "40/40 [==============================] - 0s 2ms/step - loss: 0.3099 - mae: 0.4286 - root_mean_squared_error: 0.5567\n",
            "Epoch 25/200\n",
            "40/40 [==============================] - 0s 2ms/step - loss: 0.3096 - mae: 0.4279 - root_mean_squared_error: 0.5564\n",
            "Epoch 26/200\n",
            "40/40 [==============================] - 0s 2ms/step - loss: 0.3084 - mae: 0.4260 - root_mean_squared_error: 0.5554\n",
            "Epoch 27/200\n",
            "40/40 [==============================] - 0s 2ms/step - loss: 0.3083 - mae: 0.4280 - root_mean_squared_error: 0.5553\n",
            "Epoch 28/200\n",
            "40/40 [==============================] - 0s 3ms/step - loss: 0.3090 - mae: 0.4270 - root_mean_squared_error: 0.5559\n",
            "Epoch 29/200\n",
            "40/40 [==============================] - 0s 4ms/step - loss: 0.3093 - mae: 0.4279 - root_mean_squared_error: 0.5561\n",
            "Epoch 30/200\n",
            "40/40 [==============================] - 0s 3ms/step - loss: 0.3096 - mae: 0.4266 - root_mean_squared_error: 0.5564\n",
            "Epoch 31/200\n",
            "40/40 [==============================] - 0s 3ms/step - loss: 0.3098 - mae: 0.4291 - root_mean_squared_error: 0.5566\n",
            "Epoch 32/200\n",
            "40/40 [==============================] - 0s 3ms/step - loss: 0.3083 - mae: 0.4271 - root_mean_squared_error: 0.5553\n",
            "Epoch 33/200\n",
            "40/40 [==============================] - 0s 3ms/step - loss: 0.3081 - mae: 0.4254 - root_mean_squared_error: 0.5551\n",
            "Epoch 34/200\n",
            "40/40 [==============================] - 0s 3ms/step - loss: 0.3090 - mae: 0.4275 - root_mean_squared_error: 0.5558\n",
            "Epoch 35/200\n",
            "40/40 [==============================] - 0s 3ms/step - loss: 0.3080 - mae: 0.4272 - root_mean_squared_error: 0.5550\n",
            "Epoch 36/200\n",
            "40/40 [==============================] - 0s 3ms/step - loss: 0.3096 - mae: 0.4268 - root_mean_squared_error: 0.5564\n",
            "Epoch 37/200\n",
            "40/40 [==============================] - 0s 3ms/step - loss: 0.3099 - mae: 0.4282 - root_mean_squared_error: 0.5566\n",
            "Epoch 38/200\n",
            "40/40 [==============================] - 0s 3ms/step - loss: 0.3098 - mae: 0.4268 - root_mean_squared_error: 0.5566\n",
            "Epoch 39/200\n",
            "40/40 [==============================] - 0s 3ms/step - loss: 0.3097 - mae: 0.4260 - root_mean_squared_error: 0.5565\n",
            "Epoch 40/200\n",
            "40/40 [==============================] - 0s 3ms/step - loss: 0.3092 - mae: 0.4270 - root_mean_squared_error: 0.5561\n",
            "Epoch 41/200\n",
            "40/40 [==============================] - 0s 3ms/step - loss: 0.3090 - mae: 0.4270 - root_mean_squared_error: 0.5559\n",
            "Epoch 42/200\n",
            "40/40 [==============================] - 0s 3ms/step - loss: 0.3082 - mae: 0.4274 - root_mean_squared_error: 0.5551\n",
            "Epoch 43/200\n",
            "40/40 [==============================] - 0s 3ms/step - loss: 0.3104 - mae: 0.4302 - root_mean_squared_error: 0.5572\n",
            "Epoch 44/200\n",
            "40/40 [==============================] - 0s 3ms/step - loss: 0.3065 - mae: 0.4243 - root_mean_squared_error: 0.5537\n",
            "Epoch 45/200\n",
            "40/40 [==============================] - 0s 3ms/step - loss: 0.3096 - mae: 0.4271 - root_mean_squared_error: 0.5564\n",
            "Epoch 46/200\n",
            "40/40 [==============================] - 0s 3ms/step - loss: 0.3080 - mae: 0.4273 - root_mean_squared_error: 0.5550\n",
            "Epoch 47/200\n",
            "40/40 [==============================] - 0s 3ms/step - loss: 0.3062 - mae: 0.4261 - root_mean_squared_error: 0.5534\n",
            "Epoch 48/200\n",
            "40/40 [==============================] - 0s 3ms/step - loss: 0.3099 - mae: 0.4294 - root_mean_squared_error: 0.5567\n",
            "Epoch 49/200\n",
            "40/40 [==============================] - 0s 3ms/step - loss: 0.3086 - mae: 0.4279 - root_mean_squared_error: 0.5555\n",
            "Epoch 50/200\n",
            "40/40 [==============================] - 0s 3ms/step - loss: 0.3093 - mae: 0.4251 - root_mean_squared_error: 0.5561\n",
            "Epoch 51/200\n",
            "40/40 [==============================] - 0s 3ms/step - loss: 0.3084 - mae: 0.4264 - root_mean_squared_error: 0.5554\n",
            "Epoch 52/200\n",
            "40/40 [==============================] - 0s 3ms/step - loss: 0.3089 - mae: 0.4266 - root_mean_squared_error: 0.5558\n",
            "Epoch 53/200\n",
            "40/40 [==============================] - 0s 2ms/step - loss: 0.3090 - mae: 0.4283 - root_mean_squared_error: 0.5559\n",
            "Epoch 54/200\n",
            "40/40 [==============================] - 0s 2ms/step - loss: 0.3075 - mae: 0.4255 - root_mean_squared_error: 0.5546\n",
            "Epoch 55/200\n",
            "40/40 [==============================] - 0s 2ms/step - loss: 0.3093 - mae: 0.4265 - root_mean_squared_error: 0.5561\n",
            "Epoch 56/200\n",
            "40/40 [==============================] - 0s 2ms/step - loss: 0.3078 - mae: 0.4269 - root_mean_squared_error: 0.5548\n",
            "Epoch 57/200\n",
            "40/40 [==============================] - 0s 2ms/step - loss: 0.3093 - mae: 0.4249 - root_mean_squared_error: 0.5561\n",
            "Epoch 58/200\n",
            "40/40 [==============================] - 0s 2ms/step - loss: 0.3088 - mae: 0.4272 - root_mean_squared_error: 0.5557\n",
            "Epoch 59/200\n",
            "40/40 [==============================] - 0s 2ms/step - loss: 0.3073 - mae: 0.4259 - root_mean_squared_error: 0.5543\n",
            "Epoch 60/200\n",
            "40/40 [==============================] - 0s 2ms/step - loss: 0.3087 - mae: 0.4271 - root_mean_squared_error: 0.5557\n",
            "Epoch 61/200\n",
            "40/40 [==============================] - 0s 2ms/step - loss: 0.3076 - mae: 0.4259 - root_mean_squared_error: 0.5547\n",
            "Epoch 62/200\n",
            "40/40 [==============================] - 0s 2ms/step - loss: 0.3076 - mae: 0.4249 - root_mean_squared_error: 0.5546\n",
            "Epoch 63/200\n",
            "40/40 [==============================] - 0s 2ms/step - loss: 0.3075 - mae: 0.4254 - root_mean_squared_error: 0.5545\n",
            "Epoch 64/200\n",
            "40/40 [==============================] - 0s 2ms/step - loss: 0.3093 - mae: 0.4269 - root_mean_squared_error: 0.5561\n",
            "Epoch 65/200\n",
            "40/40 [==============================] - 0s 2ms/step - loss: 0.3083 - mae: 0.4273 - root_mean_squared_error: 0.5553\n",
            "Epoch 66/200\n",
            "40/40 [==============================] - 0s 2ms/step - loss: 0.3093 - mae: 0.4260 - root_mean_squared_error: 0.5562\n",
            "Epoch 67/200\n",
            "40/40 [==============================] - 0s 2ms/step - loss: 0.3082 - mae: 0.4267 - root_mean_squared_error: 0.5552\n",
            "Epoch 68/200\n",
            "40/40 [==============================] - 0s 2ms/step - loss: 0.3069 - mae: 0.4260 - root_mean_squared_error: 0.5540\n",
            "Epoch 69/200\n",
            "40/40 [==============================] - 0s 2ms/step - loss: 0.3092 - mae: 0.4284 - root_mean_squared_error: 0.5561\n",
            "Epoch 70/200\n",
            "40/40 [==============================] - 0s 2ms/step - loss: 0.3093 - mae: 0.4270 - root_mean_squared_error: 0.5561\n",
            "Epoch 71/200\n",
            "40/40 [==============================] - 0s 2ms/step - loss: 0.3064 - mae: 0.4249 - root_mean_squared_error: 0.5535\n",
            "Epoch 72/200\n",
            "40/40 [==============================] - 0s 2ms/step - loss: 0.3080 - mae: 0.4275 - root_mean_squared_error: 0.5550\n",
            "Epoch 73/200\n",
            "40/40 [==============================] - 0s 2ms/step - loss: 0.3074 - mae: 0.4266 - root_mean_squared_error: 0.5544\n",
            "Epoch 74/200\n",
            "40/40 [==============================] - 0s 2ms/step - loss: 0.3095 - mae: 0.4280 - root_mean_squared_error: 0.5564\n",
            "Epoch 75/200\n",
            "40/40 [==============================] - 0s 2ms/step - loss: 0.3090 - mae: 0.4281 - root_mean_squared_error: 0.5559\n",
            "Epoch 76/200\n",
            "40/40 [==============================] - 0s 2ms/step - loss: 0.3072 - mae: 0.4253 - root_mean_squared_error: 0.5543\n",
            "Epoch 77/200\n",
            "40/40 [==============================] - 0s 2ms/step - loss: 0.3079 - mae: 0.4259 - root_mean_squared_error: 0.5549\n",
            "Epoch 78/200\n",
            "40/40 [==============================] - 0s 2ms/step - loss: 0.3080 - mae: 0.4269 - root_mean_squared_error: 0.5550\n",
            "Epoch 79/200\n",
            "40/40 [==============================] - 0s 2ms/step - loss: 0.3089 - mae: 0.4258 - root_mean_squared_error: 0.5558\n",
            "Epoch 80/200\n",
            "40/40 [==============================] - 0s 2ms/step - loss: 0.3086 - mae: 0.4276 - root_mean_squared_error: 0.5555\n",
            "Epoch 81/200\n",
            "40/40 [==============================] - 0s 2ms/step - loss: 0.3076 - mae: 0.4260 - root_mean_squared_error: 0.5546\n",
            "Epoch 82/200\n",
            "40/40 [==============================] - 0s 2ms/step - loss: 0.3093 - mae: 0.4258 - root_mean_squared_error: 0.5562\n",
            "Epoch 83/200\n",
            "40/40 [==============================] - 0s 2ms/step - loss: 0.3069 - mae: 0.4255 - root_mean_squared_error: 0.5540\n",
            "Epoch 84/200\n",
            "40/40 [==============================] - 0s 2ms/step - loss: 0.3076 - mae: 0.4265 - root_mean_squared_error: 0.5546\n",
            "Epoch 85/200\n",
            "40/40 [==============================] - 0s 2ms/step - loss: 0.3064 - mae: 0.4254 - root_mean_squared_error: 0.5535\n",
            "Epoch 86/200\n",
            "40/40 [==============================] - 0s 2ms/step - loss: 0.3089 - mae: 0.4286 - root_mean_squared_error: 0.5558\n",
            "Epoch 87/200\n",
            "40/40 [==============================] - 0s 2ms/step - loss: 0.3078 - mae: 0.4269 - root_mean_squared_error: 0.5548\n",
            "Epoch 88/200\n",
            "40/40 [==============================] - 0s 2ms/step - loss: 0.3083 - mae: 0.4273 - root_mean_squared_error: 0.5553\n",
            "Epoch 89/200\n",
            "40/40 [==============================] - 0s 2ms/step - loss: 0.3079 - mae: 0.4251 - root_mean_squared_error: 0.5549\n",
            "Epoch 90/200\n",
            "40/40 [==============================] - 0s 2ms/step - loss: 0.3087 - mae: 0.4260 - root_mean_squared_error: 0.5556\n",
            "Epoch 91/200\n",
            "40/40 [==============================] - 0s 2ms/step - loss: 0.3072 - mae: 0.4273 - root_mean_squared_error: 0.5542\n",
            "Epoch 92/200\n",
            "40/40 [==============================] - 0s 2ms/step - loss: 0.3094 - mae: 0.4271 - root_mean_squared_error: 0.5562\n",
            "Epoch 93/200\n",
            "40/40 [==============================] - 0s 2ms/step - loss: 0.3080 - mae: 0.4262 - root_mean_squared_error: 0.5550\n",
            "Epoch 94/200\n",
            "40/40 [==============================] - 0s 2ms/step - loss: 0.3072 - mae: 0.4249 - root_mean_squared_error: 0.5543\n",
            "Epoch 95/200\n",
            "40/40 [==============================] - 0s 2ms/step - loss: 0.3091 - mae: 0.4285 - root_mean_squared_error: 0.5559\n",
            "Epoch 96/200\n",
            "40/40 [==============================] - 0s 2ms/step - loss: 0.3082 - mae: 0.4286 - root_mean_squared_error: 0.5551\n",
            "Epoch 97/200\n",
            "40/40 [==============================] - 0s 2ms/step - loss: 0.3060 - mae: 0.4255 - root_mean_squared_error: 0.5532\n",
            "Epoch 98/200\n",
            "40/40 [==============================] - 0s 2ms/step - loss: 0.3075 - mae: 0.4240 - root_mean_squared_error: 0.5546\n",
            "Epoch 99/200\n",
            "40/40 [==============================] - 0s 2ms/step - loss: 0.3077 - mae: 0.4262 - root_mean_squared_error: 0.5547\n",
            "Epoch 100/200\n",
            "40/40 [==============================] - 0s 2ms/step - loss: 0.3067 - mae: 0.4263 - root_mean_squared_error: 0.5538\n",
            "Epoch 101/200\n",
            "40/40 [==============================] - 0s 2ms/step - loss: 0.3080 - mae: 0.4258 - root_mean_squared_error: 0.5549\n",
            "Epoch 102/200\n",
            "40/40 [==============================] - 0s 2ms/step - loss: 0.3078 - mae: 0.4239 - root_mean_squared_error: 0.5548\n",
            "Epoch 103/200\n",
            "40/40 [==============================] - 0s 2ms/step - loss: 0.3069 - mae: 0.4268 - root_mean_squared_error: 0.5540\n",
            "Epoch 104/200\n",
            "40/40 [==============================] - 0s 2ms/step - loss: 0.3078 - mae: 0.4271 - root_mean_squared_error: 0.5548\n",
            "Epoch 105/200\n",
            "40/40 [==============================] - 0s 2ms/step - loss: 0.3074 - mae: 0.4238 - root_mean_squared_error: 0.5544\n",
            "Epoch 106/200\n",
            "40/40 [==============================] - 0s 2ms/step - loss: 0.3068 - mae: 0.4250 - root_mean_squared_error: 0.5539\n",
            "Epoch 107/200\n",
            "40/40 [==============================] - 0s 2ms/step - loss: 0.3074 - mae: 0.4257 - root_mean_squared_error: 0.5545\n",
            "Epoch 108/200\n",
            "40/40 [==============================] - 0s 2ms/step - loss: 0.3074 - mae: 0.4252 - root_mean_squared_error: 0.5545\n",
            "Epoch 109/200\n",
            "40/40 [==============================] - 0s 2ms/step - loss: 0.3069 - mae: 0.4255 - root_mean_squared_error: 0.5540\n",
            "Epoch 110/200\n",
            "40/40 [==============================] - 0s 2ms/step - loss: 0.3077 - mae: 0.4260 - root_mean_squared_error: 0.5547\n",
            "Epoch 111/200\n",
            "40/40 [==============================] - 0s 2ms/step - loss: 0.3066 - mae: 0.4257 - root_mean_squared_error: 0.5537\n",
            "Epoch 112/200\n",
            "40/40 [==============================] - 0s 2ms/step - loss: 0.3064 - mae: 0.4240 - root_mean_squared_error: 0.5535\n",
            "Epoch 113/200\n",
            "40/40 [==============================] - 0s 2ms/step - loss: 0.3081 - mae: 0.4258 - root_mean_squared_error: 0.5551\n",
            "Epoch 114/200\n",
            "40/40 [==============================] - 0s 2ms/step - loss: 0.3058 - mae: 0.4241 - root_mean_squared_error: 0.5530\n",
            "Epoch 115/200\n",
            "40/40 [==============================] - 0s 2ms/step - loss: 0.3080 - mae: 0.4273 - root_mean_squared_error: 0.5549\n",
            "Epoch 116/200\n",
            "40/40 [==============================] - 0s 2ms/step - loss: 0.3079 - mae: 0.4280 - root_mean_squared_error: 0.5549\n",
            "Epoch 117/200\n",
            "40/40 [==============================] - 0s 2ms/step - loss: 0.3051 - mae: 0.4247 - root_mean_squared_error: 0.5523\n",
            "Epoch 118/200\n",
            "40/40 [==============================] - 0s 2ms/step - loss: 0.3086 - mae: 0.4272 - root_mean_squared_error: 0.5556\n",
            "Epoch 119/200\n",
            "40/40 [==============================] - 0s 2ms/step - loss: 0.3068 - mae: 0.4255 - root_mean_squared_error: 0.5539\n",
            "Epoch 120/200\n",
            "40/40 [==============================] - 0s 2ms/step - loss: 0.3077 - mae: 0.4274 - root_mean_squared_error: 0.5547\n",
            "Epoch 121/200\n",
            "40/40 [==============================] - 0s 2ms/step - loss: 0.3065 - mae: 0.4258 - root_mean_squared_error: 0.5537\n",
            "Epoch 122/200\n",
            "40/40 [==============================] - 0s 2ms/step - loss: 0.3068 - mae: 0.4249 - root_mean_squared_error: 0.5539\n",
            "Epoch 123/200\n",
            "40/40 [==============================] - 0s 2ms/step - loss: 0.3093 - mae: 0.4251 - root_mean_squared_error: 0.5561\n",
            "Epoch 124/200\n",
            "40/40 [==============================] - 0s 2ms/step - loss: 0.3059 - mae: 0.4249 - root_mean_squared_error: 0.5531\n",
            "Epoch 125/200\n",
            "40/40 [==============================] - 0s 2ms/step - loss: 0.3071 - mae: 0.4270 - root_mean_squared_error: 0.5542\n",
            "Epoch 126/200\n",
            "40/40 [==============================] - 0s 2ms/step - loss: 0.3081 - mae: 0.4251 - root_mean_squared_error: 0.5551\n",
            "Epoch 127/200\n",
            "40/40 [==============================] - 0s 2ms/step - loss: 0.3060 - mae: 0.4237 - root_mean_squared_error: 0.5532\n",
            "Epoch 128/200\n",
            "40/40 [==============================] - 0s 2ms/step - loss: 0.3065 - mae: 0.4251 - root_mean_squared_error: 0.5537\n",
            "Epoch 129/200\n",
            "40/40 [==============================] - 0s 2ms/step - loss: 0.3072 - mae: 0.4260 - root_mean_squared_error: 0.5542\n",
            "Epoch 130/200\n",
            "40/40 [==============================] - 0s 2ms/step - loss: 0.3064 - mae: 0.4236 - root_mean_squared_error: 0.5535\n",
            "Epoch 131/200\n",
            "40/40 [==============================] - 0s 2ms/step - loss: 0.3062 - mae: 0.4250 - root_mean_squared_error: 0.5534\n",
            "Epoch 132/200\n",
            "40/40 [==============================] - 0s 2ms/step - loss: 0.3061 - mae: 0.4242 - root_mean_squared_error: 0.5533\n",
            "Epoch 133/200\n",
            "40/40 [==============================] - 0s 2ms/step - loss: 0.3078 - mae: 0.4267 - root_mean_squared_error: 0.5548\n",
            "Epoch 134/200\n",
            "40/40 [==============================] - 0s 2ms/step - loss: 0.3068 - mae: 0.4248 - root_mean_squared_error: 0.5539\n",
            "Epoch 135/200\n",
            "40/40 [==============================] - 0s 2ms/step - loss: 0.3067 - mae: 0.4239 - root_mean_squared_error: 0.5538\n",
            "Epoch 136/200\n",
            "40/40 [==============================] - 0s 2ms/step - loss: 0.3073 - mae: 0.4268 - root_mean_squared_error: 0.5543\n",
            "Epoch 137/200\n",
            "40/40 [==============================] - 0s 2ms/step - loss: 0.3062 - mae: 0.4253 - root_mean_squared_error: 0.5533\n",
            "Epoch 138/200\n",
            "40/40 [==============================] - 0s 2ms/step - loss: 0.3074 - mae: 0.4243 - root_mean_squared_error: 0.5544\n",
            "Epoch 139/200\n",
            "40/40 [==============================] - 0s 2ms/step - loss: 0.3077 - mae: 0.4258 - root_mean_squared_error: 0.5547\n",
            "Epoch 140/200\n",
            "40/40 [==============================] - 0s 2ms/step - loss: 0.3058 - mae: 0.4241 - root_mean_squared_error: 0.5530\n",
            "Epoch 141/200\n",
            "40/40 [==============================] - 0s 2ms/step - loss: 0.3059 - mae: 0.4250 - root_mean_squared_error: 0.5531\n",
            "Epoch 142/200\n",
            "40/40 [==============================] - 0s 2ms/step - loss: 0.3080 - mae: 0.4268 - root_mean_squared_error: 0.5550\n",
            "Epoch 143/200\n",
            "40/40 [==============================] - 0s 2ms/step - loss: 0.3068 - mae: 0.4248 - root_mean_squared_error: 0.5539\n",
            "Epoch 144/200\n",
            "40/40 [==============================] - 0s 2ms/step - loss: 0.3068 - mae: 0.4248 - root_mean_squared_error: 0.5539\n",
            "Epoch 145/200\n",
            "40/40 [==============================] - 0s 2ms/step - loss: 0.3072 - mae: 0.4236 - root_mean_squared_error: 0.5542\n",
            "Epoch 146/200\n",
            "40/40 [==============================] - 0s 2ms/step - loss: 0.3059 - mae: 0.4238 - root_mean_squared_error: 0.5531\n",
            "Epoch 147/200\n",
            "40/40 [==============================] - 0s 2ms/step - loss: 0.3063 - mae: 0.4241 - root_mean_squared_error: 0.5535\n",
            "Epoch 148/200\n",
            "40/40 [==============================] - 0s 2ms/step - loss: 0.3054 - mae: 0.4240 - root_mean_squared_error: 0.5526\n",
            "Epoch 149/200\n",
            "40/40 [==============================] - 0s 2ms/step - loss: 0.3070 - mae: 0.4243 - root_mean_squared_error: 0.5541\n",
            "Epoch 150/200\n",
            "40/40 [==============================] - 0s 2ms/step - loss: 0.3083 - mae: 0.4258 - root_mean_squared_error: 0.5553\n",
            "Epoch 151/200\n",
            "40/40 [==============================] - 0s 2ms/step - loss: 0.3068 - mae: 0.4263 - root_mean_squared_error: 0.5539\n",
            "Epoch 152/200\n",
            "40/40 [==============================] - 0s 2ms/step - loss: 0.3081 - mae: 0.4269 - root_mean_squared_error: 0.5551\n",
            "Epoch 153/200\n",
            "40/40 [==============================] - 0s 2ms/step - loss: 0.3064 - mae: 0.4236 - root_mean_squared_error: 0.5536\n",
            "Epoch 154/200\n",
            "40/40 [==============================] - 0s 2ms/step - loss: 0.3064 - mae: 0.4257 - root_mean_squared_error: 0.5535\n",
            "Epoch 155/200\n",
            "40/40 [==============================] - 0s 2ms/step - loss: 0.3068 - mae: 0.4241 - root_mean_squared_error: 0.5539\n",
            "Epoch 156/200\n",
            "40/40 [==============================] - 0s 2ms/step - loss: 0.3053 - mae: 0.4241 - root_mean_squared_error: 0.5526\n",
            "Epoch 157/200\n",
            "40/40 [==============================] - 0s 2ms/step - loss: 0.3070 - mae: 0.4268 - root_mean_squared_error: 0.5541\n",
            "Epoch 158/200\n",
            "40/40 [==============================] - 0s 2ms/step - loss: 0.3064 - mae: 0.4229 - root_mean_squared_error: 0.5535\n",
            "Epoch 159/200\n",
            "40/40 [==============================] - 0s 2ms/step - loss: 0.3044 - mae: 0.4259 - root_mean_squared_error: 0.5517\n",
            "Epoch 160/200\n",
            "40/40 [==============================] - 0s 2ms/step - loss: 0.3072 - mae: 0.4249 - root_mean_squared_error: 0.5543\n",
            "Epoch 161/200\n",
            "40/40 [==============================] - 0s 2ms/step - loss: 0.3061 - mae: 0.4241 - root_mean_squared_error: 0.5533\n",
            "Epoch 162/200\n",
            "40/40 [==============================] - 0s 2ms/step - loss: 0.3086 - mae: 0.4265 - root_mean_squared_error: 0.5555\n",
            "Epoch 163/200\n",
            "40/40 [==============================] - 0s 3ms/step - loss: 0.3063 - mae: 0.4254 - root_mean_squared_error: 0.5534\n",
            "Epoch 164/200\n",
            "40/40 [==============================] - 0s 3ms/step - loss: 0.3060 - mae: 0.4251 - root_mean_squared_error: 0.5532\n",
            "Epoch 165/200\n",
            "40/40 [==============================] - 0s 3ms/step - loss: 0.3073 - mae: 0.4237 - root_mean_squared_error: 0.5543\n",
            "Epoch 166/200\n",
            "40/40 [==============================] - 0s 3ms/step - loss: 0.3042 - mae: 0.4246 - root_mean_squared_error: 0.5515\n",
            "Epoch 167/200\n",
            "40/40 [==============================] - 0s 4ms/step - loss: 0.3074 - mae: 0.4259 - root_mean_squared_error: 0.5545\n",
            "Epoch 168/200\n",
            "40/40 [==============================] - 0s 3ms/step - loss: 0.3060 - mae: 0.4252 - root_mean_squared_error: 0.5531\n",
            "Epoch 169/200\n",
            "40/40 [==============================] - 0s 3ms/step - loss: 0.3072 - mae: 0.4258 - root_mean_squared_error: 0.5542\n",
            "Epoch 170/200\n",
            "40/40 [==============================] - 0s 2ms/step - loss: 0.3058 - mae: 0.4250 - root_mean_squared_error: 0.5529\n",
            "Epoch 171/200\n",
            "40/40 [==============================] - 0s 3ms/step - loss: 0.3066 - mae: 0.4260 - root_mean_squared_error: 0.5537\n",
            "Epoch 172/200\n",
            "40/40 [==============================] - 0s 2ms/step - loss: 0.3066 - mae: 0.4242 - root_mean_squared_error: 0.5537\n",
            "Epoch 173/200\n",
            "40/40 [==============================] - 0s 3ms/step - loss: 0.3068 - mae: 0.4262 - root_mean_squared_error: 0.5539\n",
            "Epoch 174/200\n",
            "40/40 [==============================] - 0s 3ms/step - loss: 0.3057 - mae: 0.4238 - root_mean_squared_error: 0.5529\n",
            "Epoch 175/200\n",
            "40/40 [==============================] - 0s 2ms/step - loss: 0.3065 - mae: 0.4246 - root_mean_squared_error: 0.5536\n",
            "Epoch 176/200\n",
            "40/40 [==============================] - 0s 3ms/step - loss: 0.3063 - mae: 0.4254 - root_mean_squared_error: 0.5534\n",
            "Epoch 177/200\n",
            "40/40 [==============================] - 0s 3ms/step - loss: 0.3067 - mae: 0.4260 - root_mean_squared_error: 0.5538\n",
            "Epoch 178/200\n",
            "40/40 [==============================] - 0s 2ms/step - loss: 0.3065 - mae: 0.4247 - root_mean_squared_error: 0.5536\n",
            "Epoch 179/200\n",
            "40/40 [==============================] - 0s 3ms/step - loss: 0.3075 - mae: 0.4251 - root_mean_squared_error: 0.5545\n",
            "Epoch 180/200\n",
            "40/40 [==============================] - 0s 3ms/step - loss: 0.3064 - mae: 0.4253 - root_mean_squared_error: 0.5536\n",
            "Epoch 181/200\n",
            "40/40 [==============================] - 0s 2ms/step - loss: 0.3061 - mae: 0.4248 - root_mean_squared_error: 0.5533\n",
            "Epoch 182/200\n",
            "40/40 [==============================] - 0s 3ms/step - loss: 0.3060 - mae: 0.4238 - root_mean_squared_error: 0.5531\n",
            "Epoch 183/200\n",
            "40/40 [==============================] - 0s 2ms/step - loss: 0.3056 - mae: 0.4233 - root_mean_squared_error: 0.5528\n",
            "Epoch 184/200\n",
            "40/40 [==============================] - 0s 3ms/step - loss: 0.3067 - mae: 0.4252 - root_mean_squared_error: 0.5538\n",
            "Epoch 185/200\n",
            "40/40 [==============================] - 0s 3ms/step - loss: 0.3043 - mae: 0.4252 - root_mean_squared_error: 0.5517\n",
            "Epoch 186/200\n",
            "40/40 [==============================] - 0s 3ms/step - loss: 0.3052 - mae: 0.4254 - root_mean_squared_error: 0.5525\n",
            "Epoch 187/200\n",
            "40/40 [==============================] - 0s 3ms/step - loss: 0.3058 - mae: 0.4235 - root_mean_squared_error: 0.5530\n",
            "Epoch 188/200\n",
            "40/40 [==============================] - 0s 3ms/step - loss: 0.3060 - mae: 0.4267 - root_mean_squared_error: 0.5532\n",
            "Epoch 189/200\n",
            "40/40 [==============================] - 0s 3ms/step - loss: 0.3055 - mae: 0.4245 - root_mean_squared_error: 0.5527\n",
            "Epoch 190/200\n",
            "40/40 [==============================] - 0s 3ms/step - loss: 0.3065 - mae: 0.4247 - root_mean_squared_error: 0.5536\n",
            "Epoch 191/200\n",
            "40/40 [==============================] - 0s 3ms/step - loss: 0.3032 - mae: 0.4240 - root_mean_squared_error: 0.5507\n",
            "Epoch 192/200\n",
            "40/40 [==============================] - 0s 3ms/step - loss: 0.3060 - mae: 0.4263 - root_mean_squared_error: 0.5532\n",
            "Epoch 193/200\n",
            "40/40 [==============================] - 0s 2ms/step - loss: 0.3041 - mae: 0.4253 - root_mean_squared_error: 0.5515\n",
            "Epoch 194/200\n",
            "40/40 [==============================] - 0s 2ms/step - loss: 0.3046 - mae: 0.4226 - root_mean_squared_error: 0.5519\n",
            "Epoch 195/200\n",
            "40/40 [==============================] - 0s 2ms/step - loss: 0.3064 - mae: 0.4246 - root_mean_squared_error: 0.5536\n",
            "Epoch 196/200\n",
            "40/40 [==============================] - 0s 2ms/step - loss: 0.3054 - mae: 0.4238 - root_mean_squared_error: 0.5526\n",
            "Epoch 197/200\n",
            "40/40 [==============================] - 0s 2ms/step - loss: 0.3051 - mae: 0.4263 - root_mean_squared_error: 0.5524\n",
            "Epoch 198/200\n",
            "40/40 [==============================] - 0s 2ms/step - loss: 0.3059 - mae: 0.4263 - root_mean_squared_error: 0.5531\n",
            "Epoch 199/200\n",
            "40/40 [==============================] - 0s 2ms/step - loss: 0.3070 - mae: 0.4268 - root_mean_squared_error: 0.5541\n",
            "Epoch 200/200\n",
            "40/40 [==============================] - 0s 2ms/step - loss: 0.3061 - mae: 0.4246 - root_mean_squared_error: 0.5532\n"
          ]
        }
      ]
    },
    {
      "cell_type": "code",
      "source": [
        "# Make predictions on the test set\n",
        "y_pred1 = nnModel01.predict(x_test_scaled)\n",
        "\n",
        "# Calculate and print the R-squared score\n",
        "r2 = r2_score(y_test, y_pred1)\n",
        "print(f\"R-squared (R2): {r2:.2f}\")"
      ],
      "metadata": {
        "colab": {
          "base_uri": "https://localhost:8080/"
        },
        "id": "DqZ7G-uWfQEH",
        "outputId": "0fb31bc5-ed3d-48bc-d83e-d4dbbe940b32"
      },
      "execution_count": 32,
      "outputs": [
        {
          "output_type": "stream",
          "name": "stdout",
          "text": [
            "10/10 [==============================] - 0s 2ms/step\n",
            "R-squared (R2): 0.34\n"
          ]
        }
      ]
    },
    {
      "cell_type": "code",
      "source": [
        "import numpy as np\n",
        "from sklearn.metrics import accuracy_score\n",
        "\n",
        "# Make rounded predictions by rounding the predicted values\n",
        "roundedPred = np.round(y_pred1)\n",
        "\n",
        "# Convert the rounded predictions to integers\n",
        "roundedPred = roundedPred.astype(int)\n",
        "\n",
        "# Calculate and print the accuracy score\n",
        "accuracy = accuracy_score(y_test, roundedPred)\n",
        "print(f\"Accuracy Score: {accuracy*100:.2f}%\")"
      ],
      "metadata": {
        "colab": {
          "base_uri": "https://localhost:8080/"
        },
        "id": "YVmZCKgjfaBE",
        "outputId": "f8c97ec2-465e-4b39-e8ba-a456fa487a78"
      },
      "execution_count": 33,
      "outputs": [
        {
          "output_type": "stream",
          "name": "stdout",
          "text": [
            "Accuracy Score: 61.88%\n"
          ]
        }
      ]
    },
    {
      "cell_type": "code",
      "source": [
        "# Prompt the user for input\n",
        "alcohol = float(input(\"Enter alcohol content: \"))\n",
        "sulphates = float(input(\"Enter sulphates content: \"))\n",
        "total_sulfur_dioxide = float(input(\"Enter total sulfur dioxide: \"))\n",
        "volatile_acidity = float(input(\"Enter volatile acidity: \"))\n",
        "density = float(input(\"Enter density: \"))\n",
        "chlorides = float(input(\"Enter chlorides: \"))\n",
        "pH = float(input(\"Enter pH: \"))\n",
        "fixed_acidity = float(input(\"Enter fixed acidity: \"))\n",
        "residual_sugar = float(input(\"Enter residual sugar: \"))\n",
        "citric_acid = float(input(\"Enter citric acid: \"))\n",
        "free_sulfur_dioxide = float(input(\"Enter free sulfur dioxide: \"))\n",
        "\n",
        "# Create a DataFrame from the user input\n",
        "input_data = pd.DataFrame({\n",
        "    'fixed acidity': [fixed_acidity],\n",
        "    'volatile acidity': [volatile_acidity],\n",
        "    'citric acid': [citric_acid],\n",
        "    'residual sugar': [residual_sugar],\n",
        "    'chlorides': [chlorides],\n",
        "    'free sulfur dioxide': [free_sulfur_dioxide],\n",
        "    'total sulfur dioxide': [total_sulfur_dioxide],\n",
        "    'density': [density],\n",
        "    'pH': [pH],\n",
        "    'sulphates': [sulphates],\n",
        "    'alcohol': [alcohol]\n",
        "})\n",
        "\n",
        "# Scale the input data using the pre-trained scaler\n",
        "input_scaled = pd.DataFrame(scaler.transform(input_data), columns=input_data.columns)\n",
        "\n",
        "# Make predictions for the user input\n",
        "predicted_quality = nnModel01.predict(input_scaled)[0][0]\n",
        "rounded_predicted_quality = round(predicted_quality)\n",
        "\n",
        "# Print the predicted quality\n",
        "print(f\"Predicted Wine Quality: {rounded_predicted_quality}\")\n"
      ],
      "metadata": {
        "colab": {
          "base_uri": "https://localhost:8080/"
        },
        "id": "tRWM-SShh4PC",
        "outputId": "d9ca0a23-a2d8-4851-e9f7-8d485347c95e"
      },
      "execution_count": 35,
      "outputs": [
        {
          "output_type": "stream",
          "name": "stdout",
          "text": [
            "Enter alcohol content: 9.4\n",
            "Enter sulphates content: 0.56\n",
            "Enter total sulfur dioxide: 34\n",
            "Enter volatile acidity: 0.7\n",
            "Enter density: 0.9978\n",
            "Enter chlorides: 0.076\n",
            "Enter pH: 3.51\n",
            "Enter fixed acidity: 7.4\n",
            "Enter residual sugar: 1.9\n",
            "Enter citric acid: 0\n",
            "Enter free sulfur dioxide: 11\n",
            "1/1 [==============================] - 0s 53ms/step\n",
            "Predicted Wine Quality: 5\n"
          ]
        }
      ]
    },
    {
      "cell_type": "code",
      "source": [
        "# Prompt the user for input\n",
        "alcohol = float(input(\"Enter alcohol content: \"))\n",
        "sulphates = float(input(\"Enter sulphates content: \"))\n",
        "total_sulfur_dioxide = float(input(\"Enter total sulfur dioxide: \"))\n",
        "volatile_acidity = float(input(\"Enter volatile acidity: \"))\n",
        "density = float(input(\"Enter density: \"))\n",
        "chlorides = float(input(\"Enter chlorides: \"))\n",
        "pH = float(input(\"Enter pH: \"))\n",
        "fixed_acidity = float(input(\"Enter fixed acidity: \"))\n",
        "residual_sugar = float(input(\"Enter residual sugar: \"))\n",
        "citric_acid = float(input(\"Enter citric acid: \"))\n",
        "free_sulfur_dioxide = float(input(\"Enter free sulfur dioxide: \"))\n",
        "\n",
        "# Create a DataFrame from the user input\n",
        "input_data = pd.DataFrame({\n",
        "    'fixed acidity': [fixed_acidity],\n",
        "    'volatile acidity': [volatile_acidity],\n",
        "    'citric acid': [citric_acid],\n",
        "    'residual sugar': [residual_sugar],\n",
        "    'chlorides': [chlorides],\n",
        "    'free sulfur dioxide': [free_sulfur_dioxide],\n",
        "    'total sulfur dioxide': [total_sulfur_dioxide],\n",
        "    'density': [density],\n",
        "    'pH': [pH],\n",
        "    'sulphates': [sulphates],\n",
        "    'alcohol': [alcohol]\n",
        "})\n",
        "\n",
        "# Scale the input data using the pre-trained scaler\n",
        "input_scaled = pd.DataFrame(scaler.transform(input_data), columns=input_data.columns)\n",
        "\n",
        "# Make predictions for the user input\n",
        "predicted_quality = nnModel01.predict(input_scaled)[0][0]\n",
        "rounded_predicted_quality = round(predicted_quality)\n",
        "\n",
        "# Print the predicted quality\n",
        "print(f\"Predicted Wine Quality: {rounded_predicted_quality}\")\n"
      ],
      "metadata": {
        "colab": {
          "base_uri": "https://localhost:8080/"
        },
        "id": "pO61w6N_jqI9",
        "outputId": "2de84951-87ac-4a37-cb90-e0e1dfc22c91"
      },
      "execution_count": 36,
      "outputs": [
        {
          "output_type": "stream",
          "name": "stdout",
          "text": [
            "Enter alcohol content: 10\n",
            "Enter sulphates content: 0.47\n",
            "Enter total sulfur dioxide: 21\n",
            "Enter volatile acidity: 0.65\n",
            "Enter density: 0.9946\n",
            "Enter chlorides: 0.065\n",
            "Enter pH: 3.39\n",
            "Enter fixed acidity: 7.3\n",
            "Enter residual sugar: 1.2\n",
            "Enter citric acid: 0\n",
            "Enter free sulfur dioxide: 15\n",
            "1/1 [==============================] - 0s 21ms/step\n",
            "Predicted Wine Quality: 5\n"
          ]
        }
      ]
    }
  ]
}
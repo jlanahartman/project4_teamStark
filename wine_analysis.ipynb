{
  "cells": [
    {
      "cell_type": "code",
      "execution_count": 1,
      "id": "0653f685-fc84-498c-8d7a-b952d780d906",
      "metadata": {
        "ExecuteTime": {
          "end_time": "2023-07-11T07:12:25.587062+00:00",
          "start_time": "2023-07-11T07:12:25.392873+00:00"
        },
        "jupyter": {
          "outputs_hidden": true
        },
        "noteable": {
          "cell_type": "code",
          "output_collection_id": "867e3794-07da-4fb4-bca9-75826df14b81"
        }
      },
      "outputs": [
        {
          "data": {
            "text/plain": [
              "(   Unnamed: 0  fixed acidity  volatile acidity  citric acid  residual sugar  \\\n",
              " 0           0            7.4              0.70         0.00             1.9   \n",
              " 1           1            7.8              0.88         0.00             2.6   \n",
              " 2           2            7.8              0.76         0.04             2.3   \n",
              " 3           3           11.2              0.28         0.56             1.9   \n",
              " 4           5            7.4              0.66         0.00             1.8   \n",
              " \n",
              "    chlorides  free sulfur dioxide  total sulfur dioxide  density    pH  \\\n",
              " 0      0.076                 11.0                  34.0   0.9978  3.51   \n",
              " 1      0.098                 25.0                  67.0   0.9968  3.20   \n",
              " 2      0.092                 15.0                  54.0   0.9970  3.26   \n",
              " 3      0.075                 17.0                  60.0   0.9980  3.16   \n",
              " 4      0.075                 13.0                  40.0   0.9978  3.51   \n",
              " \n",
              "    sulphates  alcohol  quality  \n",
              " 0       0.56      9.4        5  \n",
              " 1       0.68      9.8        5  \n",
              " 2       0.65      9.8        5  \n",
              " 3       0.58      9.8        6  \n",
              " 4       0.56      9.4        5  ,\n",
              "    Unnamed: 0  fixed acidity  volatile acidity  citric acid  residual sugar  \\\n",
              " 0           0            7.0              0.27         0.36            20.7   \n",
              " 1           1            6.3              0.30         0.34             1.6   \n",
              " 2           2            8.1              0.28         0.40             6.9   \n",
              " 3           3            7.2              0.23         0.32             8.5   \n",
              " 4           6            6.2              0.32         0.16             7.0   \n",
              " \n",
              "    chlorides  free sulfur dioxide  total sulfur dioxide  density    pH  \\\n",
              " 0      0.045                 45.0                 170.0   1.0010  3.00   \n",
              " 1      0.049                 14.0                 132.0   0.9940  3.30   \n",
              " 2      0.050                 30.0                  97.0   0.9951  3.26   \n",
              " 3      0.058                 47.0                 186.0   0.9956  3.19   \n",
              " 4      0.045                 30.0                 136.0   0.9949  3.18   \n",
              " \n",
              "    sulphates  alcohol  quality  \n",
              " 0       0.45      8.8        6  \n",
              " 1       0.49      9.5        6  \n",
              " 2       0.44     10.1        6  \n",
              " 3       0.40      9.9        6  \n",
              " 4       0.47      9.6        6  )"
            ]
          },
          "execution_count": 1,
          "metadata": {},
          "output_type": "execute_result"
        }
      ],
      "source": [
        "import pandas as pd\n",
        "\n",
        "# Load the CSV files\n",
        "df_red = pd.read_csv('visualization/qualityRedWineDF.csv')\n",
        "df_white = pd.read_csv('visualization/qualityWhiteWineDF.csv')\n",
        "\n",
        "# Display the first few rows of the DataFrames\n",
        "df_red.head(), df_white.head()"
      ]
    },
    {
      "cell_type": "code",
      "execution_count": 2,
      "id": "b8a8e3ac-d71c-439a-8a19-b87626daf004",
      "metadata": {
        "ExecuteTime": {
          "end_time": "2023-07-11T07:12:25.827591+00:00",
          "start_time": "2023-07-11T07:12:25.596880+00:00"
        },
        "jupyter": {
          "outputs_hidden": true,
          "source_hidden": false
        },
        "noteable": {
          "cell_type": "code",
          "output_collection_id": "2db83ea0-7049-458e-8379-e73e013adb91"
        }
      },
      "outputs": [
        {
          "data": {
            "text/plain": [
              "(        Unnamed: 0  fixed acidity  volatile acidity  citric acid  \\\n",
              " count  1359.000000    1359.000000       1359.000000  1359.000000   \n",
              " mean    792.693157       8.310596          0.529478     0.272333   \n",
              " std     465.380840       1.736990          0.183031     0.195537   \n",
              " min       0.000000       4.600000          0.120000     0.000000   \n",
              " 25%     388.500000       7.100000          0.390000     0.090000   \n",
              " 50%     785.000000       7.900000          0.520000     0.260000   \n",
              " 75%    1193.500000       9.200000          0.640000     0.430000   \n",
              " max    1598.000000      15.900000          1.580000     1.000000   \n",
              " \n",
              "        residual sugar    chlorides  free sulfur dioxide  total sulfur dioxide  \\\n",
              " count     1359.000000  1359.000000          1359.000000           1359.000000   \n",
              " mean         2.523400     0.088124            15.893304             46.825975   \n",
              " std          1.352314     0.049377            10.447270             33.408946   \n",
              " min          0.900000     0.012000             1.000000              6.000000   \n",
              " 25%          1.900000     0.070000             7.000000             22.000000   \n",
              " 50%          2.200000     0.079000            14.000000             38.000000   \n",
              " 75%          2.600000     0.091000            21.000000             63.000000   \n",
              " max         15.500000     0.611000            72.000000            289.000000   \n",
              " \n",
              "            density           pH    sulphates      alcohol      quality  \n",
              " count  1359.000000  1359.000000  1359.000000  1359.000000  1359.000000  \n",
              " mean      0.996709     3.309787     0.658705    10.432315     5.623252  \n",
              " std       0.001869     0.155036     0.170667     1.082065     0.823578  \n",
              " min       0.990070     2.740000     0.330000     8.400000     3.000000  \n",
              " 25%       0.995600     3.210000     0.550000     9.500000     5.000000  \n",
              " 50%       0.996700     3.310000     0.620000    10.200000     6.000000  \n",
              " 75%       0.997820     3.400000     0.730000    11.100000     6.000000  \n",
              " max       1.003690     4.010000     2.000000    14.900000     8.000000  ,\n",
              "         Unnamed: 0  fixed acidity  volatile acidity  citric acid  \\\n",
              " count  3961.000000    3961.000000       3961.000000  3961.000000   \n",
              " mean   2414.467054       6.839346          0.280538     0.334332   \n",
              " std    1426.025020       0.866860          0.103437     0.122446   \n",
              " min       0.000000       3.800000          0.080000     0.000000   \n",
              " 25%    1170.000000       6.300000          0.210000     0.270000   \n",
              " 50%    2385.000000       6.800000          0.260000     0.320000   \n",
              " 75%    3641.000000       7.300000          0.330000     0.390000   \n",
              " max    4897.000000      14.200000          1.100000     1.660000   \n",
              " \n",
              "        residual sugar    chlorides  free sulfur dioxide  total sulfur dioxide  \\\n",
              " count     3961.000000  3961.000000          3961.000000           3961.000000   \n",
              " mean         5.914819     0.045905            34.889169            137.193512   \n",
              " std          4.861646     0.023103            17.210021             43.129065   \n",
              " min          0.600000     0.009000             2.000000              9.000000   \n",
              " 25%          1.600000     0.035000            23.000000            106.000000   \n",
              " 50%          4.700000     0.042000            33.000000            133.000000   \n",
              " 75%          8.900000     0.050000            45.000000            166.000000   \n",
              " max         65.800000     0.346000           289.000000            440.000000   \n",
              " \n",
              "            density           pH    sulphates      alcohol      quality  \n",
              " count  3961.000000  3961.000000  3961.000000  3961.000000  3961.000000  \n",
              " mean      0.993790     3.195458     0.490351    10.589358     5.854835  \n",
              " std       0.002905     0.151546     0.113523     1.217076     0.890683  \n",
              " min       0.987110     2.720000     0.220000     8.000000     3.000000  \n",
              " 25%       0.991620     3.090000     0.410000     9.500000     5.000000  \n",
              " 50%       0.993500     3.180000     0.480000    10.400000     6.000000  \n",
              " 75%       0.995710     3.290000     0.550000    11.400000     6.000000  \n",
              " max       1.038980     3.820000     1.080000    14.200000     9.000000  )"
            ]
          },
          "execution_count": 2,
          "metadata": {},
          "output_type": "execute_result"
        }
      ],
      "source": [
        "# Describe the red wine data\n",
        "red_desc = df_red.describe()\n",
        "\n",
        "# Describe the white wine data\n",
        "white_desc = df_white.describe()\n",
        "\n",
        "red_desc, white_desc"
      ]
    },
    {
      "cell_type": "code",
      "execution_count": 3,
      "id": "c617865c-a234-476c-ad2f-c92eafc25d54",
      "metadata": {
        "ExecuteTime": {
          "end_time": "2023-07-11T07:12:26.017343+00:00",
          "start_time": "2023-07-11T07:12:25.838112+00:00"
        },
        "jupyter": {
          "outputs_hidden": true
        },
        "noteable": {
          "cell_type": "code",
          "output_collection_id": "6ac95704-9812-4fa3-8246-4c10768a41f1"
        }
      },
      "outputs": [
        {
          "data": {
            "text/plain": [
              "(   fixed acidity  volatile acidity  citric acid  residual sugar  chlorides  \\\n",
              " 0            7.4              0.70         0.00             1.9      0.076   \n",
              " 1            7.8              0.88         0.00             2.6      0.098   \n",
              " 2            7.8              0.76         0.04             2.3      0.092   \n",
              " 3           11.2              0.28         0.56             1.9      0.075   \n",
              " 4            7.4              0.66         0.00             1.8      0.075   \n",
              " \n",
              "    free sulfur dioxide  total sulfur dioxide  density    pH  sulphates  \\\n",
              " 0                 11.0                  34.0   0.9978  3.51       0.56   \n",
              " 1                 25.0                  67.0   0.9968  3.20       0.68   \n",
              " 2                 15.0                  54.0   0.9970  3.26       0.65   \n",
              " 3                 17.0                  60.0   0.9980  3.16       0.58   \n",
              " 4                 13.0                  40.0   0.9978  3.51       0.56   \n",
              " \n",
              "    alcohol  quality  \n",
              " 0      9.4        5  \n",
              " 1      9.8        5  \n",
              " 2      9.8        5  \n",
              " 3      9.8        6  \n",
              " 4      9.4        5  ,\n",
              "    fixed acidity  volatile acidity  citric acid  residual sugar  chlorides  \\\n",
              " 0            7.0              0.27         0.36            20.7      0.045   \n",
              " 1            6.3              0.30         0.34             1.6      0.049   \n",
              " 2            8.1              0.28         0.40             6.9      0.050   \n",
              " 3            7.2              0.23         0.32             8.5      0.058   \n",
              " 4            6.2              0.32         0.16             7.0      0.045   \n",
              " \n",
              "    free sulfur dioxide  total sulfur dioxide  density    pH  sulphates  \\\n",
              " 0                 45.0                 170.0   1.0010  3.00       0.45   \n",
              " 1                 14.0                 132.0   0.9940  3.30       0.49   \n",
              " 2                 30.0                  97.0   0.9951  3.26       0.44   \n",
              " 3                 47.0                 186.0   0.9956  3.19       0.40   \n",
              " 4                 30.0                 136.0   0.9949  3.18       0.47   \n",
              " \n",
              "    alcohol  quality  \n",
              " 0      8.8        6  \n",
              " 1      9.5        6  \n",
              " 2     10.1        6  \n",
              " 3      9.9        6  \n",
              " 4      9.6        6  )"
            ]
          },
          "execution_count": 3,
          "metadata": {},
          "output_type": "execute_result"
        }
      ],
      "source": [
        "# Drop the 'Unnamed: 0' column from the datasets\n",
        "df_red = df_red.drop(columns=['Unnamed: 0'])\n",
        "df_white = df_white.drop(columns=['Unnamed: 0'])\n",
        "\n",
        "# Display the first few rows of the DataFrames to confirm\n",
        "df_red.head(), df_white.head()"
      ]
    },
    {
      "cell_type": "code",
      "execution_count": null,
      "id": "71d0c8f7",
      "metadata": {},
      "outputs": [],
      "source": [
        "# Convert the dataframes to JSON and save\n",
        "df_red.to_json('visualization/qualityRedWineDF.json', orient='records')\n",
        "df_white.to_json('visualization/qualityWhiteWineDF.json', orient='records')"
      ]
    },
    {
      "cell_type": "code",
      "execution_count": null,
      "id": "d77060f1-1aec-4c27-98a0-ca6cdada06fc",
      "metadata": {
        "ExecuteTime": {
          "end_time": "2023-07-11T07:12:27.451081+00:00",
          "start_time": "2023-07-11T07:12:26.030917+00:00"
        },
        "noteable": {
          "cell_type": "code",
          "output_collection_id": "c599ee77-a9f6-43ac-bf6c-7272030b349b"
        }
      },
      "outputs": [],
      "source": [
        "# Visual 1:\n",
        "import matplotlib.pyplot as plt\n",
        "import seaborn as sns\n",
        "\n",
        "# Create a histogram of the quality scores for the red and white wines using seaborn\n",
        "plt.figure(figsize=(10, 6))\n",
        "sns.histplot(df_red['quality'], color='xkcd:red wine', label='Red Wine', bins=10)\n",
        "sns.histplot(df_white['quality'], color='xkcd:pale gold', label='White Wine', bins=10)\n",
        "plt.title('Distribution of Quality Scores for Red and White Wines')\n",
        "plt.xlabel('Quality Score')\n",
        "plt.ylabel('Frequency')\n",
        "plt.legend()\n",
        "plt.grid(True)\n",
        "plt.show()"
      ]
    },
    {
      "cell_type": "code",
      "execution_count": null,
      "id": "07e6fdeb-5e40-404a-998b-c769f29b30a2",
      "metadata": {
        "ExecuteTime": {
          "end_time": "2023-07-11T07:12:34.903505+00:00",
          "start_time": "2023-07-11T07:12:29.931027+00:00"
        },
        "jupyter": {
          "outputs_hidden": false,
          "source_hidden": false
        },
        "noteable": {
          "cell_type": "code",
          "output_collection_id": "e263de98-7fc8-4fe5-8080-bb8495e1fa89"
        }
      },
      "outputs": [],
      "source": [
        "# Visual 2:\n",
        "# Histograms of all features in the Red Wine dataset\n",
        "df_red.hist(bins=15, figsize=(20, 15))\n",
        "plt.suptitle('Histograms of all features - Red Wine Data')\n",
        "plt.show()\n",
        "\n",
        "# Visual 3:\n",
        "# Histograms of all features in the White Wine dataset\n",
        "df_white.hist(bins=15, figsize=(20, 15))\n",
        "plt.suptitle('Histograms of all features - White Wine Data')\n",
        "plt.show()"
      ]
    },
    {
      "cell_type": "code",
      "execution_count": null,
      "id": "6f363634-448d-462e-9b9f-9aad4f20e7ca",
      "metadata": {
        "ExecuteTime": {
          "end_time": "2023-07-11T07:12:37.429902+00:00",
          "start_time": "2023-07-11T07:12:35.296514+00:00"
        },
        "noteable": {
          "cell_type": "code",
          "output_collection_id": "f13b3781-ff76-458d-b5c8-928f09e2bf4e"
        },
        "scrolled": false
      },
      "outputs": [],
      "source": [
        "# Visual 4:\n",
        "# Create a list of variables to plot\n",
        "variables = ['fixed acidity', 'volatile acidity', 'citric acid', 'residual sugar', 'chlorides', 'free sulfur dioxide', 'total sulfur dioxide', 'density', 'pH', 'sulphates', 'alcohol']\n",
        "\n",
        "# Create a figure\n",
        "fig, axs = plt.subplots(nrows=len(variables), figsize=(5, 30))\n",
        "\n",
        "# For each variable, create a boxplot\n",
        "for i, variable in enumerate(variables):\n",
        "    sns.boxplot(data=[df_red[variable], df_white[variable]], ax=axs[i])\n",
        "    axs[i].set_xticklabels(['Red Wine', 'White Wine'])\n",
        "    axs[i].set_title(f'Boxplot of {variable}')\n",
        "\n",
        "# Adjust the layout\n",
        "plt.tight_layout()\n",
        "plt.show()"
      ]
    },
    {
      "cell_type": "code",
      "execution_count": null,
      "id": "a0a32f34-26e9-46cd-a82a-0c0f3bac2202",
      "metadata": {
        "ExecuteTime": {
          "end_time": "2023-07-11T07:12:38.838788+00:00",
          "start_time": "2023-07-11T07:12:37.805282+00:00"
        },
        "noteable": {
          "cell_type": "code",
          "output_collection_id": "d1c993c2-837f-46fe-8fa1-9341bddd206f"
        },
        "scrolled": true
      },
      "outputs": [],
      "source": [
        "# Visual 5:\n",
        "# Calculate the correlation matrix for the red wine data\n",
        "corr_red = df_red.corr()\n",
        "\n",
        "# Create a heatmap of the correlation matrix\n",
        "plt.figure(figsize=(12, 10))\n",
        "sns.heatmap(corr_red, annot=True, fmt='.2f', cmap='coolwarm', square=True)\n",
        "plt.title('Correlation Matrix for Red Wine Variables')\n",
        "plt.show()"
      ]
    },
    {
      "cell_type": "code",
      "execution_count": null,
      "id": "1c1706d3-b769-4873-bca5-ca62d0f03ade",
      "metadata": {
        "ExecuteTime": {
          "end_time": "2023-07-11T07:12:40.341780+00:00",
          "start_time": "2023-07-11T07:12:39.315071+00:00"
        },
        "noteable": {
          "cell_type": "code",
          "output_collection_id": "4566b7a3-3c5f-4425-a8a1-723917315ed7"
        }
      },
      "outputs": [],
      "source": [
        "# Visual 6:\n",
        "# Calculate the correlation matrix for the white wine data\n",
        "corr_white = df_white.corr()\n",
        "\n",
        "# Create a heatmap of the correlation matrix\n",
        "plt.figure(figsize=(12, 10))\n",
        "sns.heatmap(corr_white, annot=True, fmt='.2f', cmap='coolwarm', square=True)\n",
        "plt.title('Correlation Matrix for White Wine Variables')\n",
        "plt.show()"
      ]
    },
    {
      "cell_type": "code",
      "execution_count": null,
      "id": "0dad37c5-a0a9-493b-9887-dcf04797714c",
      "metadata": {
        "ExecuteTime": {
          "end_time": "2023-07-11T07:12:41.766057+00:00",
          "start_time": "2023-07-11T07:12:40.856985+00:00"
        },
        "noteable": {
          "cell_type": "code",
          "output_collection_id": "af5c04f2-251a-46f5-9b12-91f08ecd23bd"
        },
        "scrolled": true
      },
      "outputs": [],
      "source": [
        "# Visual 7:\n",
        "import plotly.express as px\n",
        "\n",
        "# Create a scatter plot of alcohol vs. density, colored by quality for red wine\n",
        "fig_red = px.scatter(df_red, x='alcohol', y='density', color='quality',\n",
        "                 title='Alcohol vs. Density for Red Wine',\n",
        "                 labels={'alcohol': 'Alcohol', 'density': 'Density', 'quality': 'Quality'},\n",
        "                 color_continuous_scale='Viridis',\n",
        "                 hover_data=['fixed acidity', 'volatile acidity', 'citric acid', 'residual sugar', 'chlorides', 'free sulfur dioxide', 'total sulfur dioxide', 'pH', 'sulphates'])\n",
        "\n",
        "# Show the plot\n",
        "fig_red.show()"
      ]
    },
    {
      "cell_type": "code",
      "execution_count": null,
      "id": "9839efa1-73f8-4313-ab26-4485aaaa7666",
      "metadata": {
        "ExecuteTime": {
          "end_time": "2023-07-11T07:12:43.239278+00:00",
          "start_time": "2023-07-11T07:12:42.935923+00:00"
        },
        "noteable": {
          "cell_type": "code",
          "output_collection_id": "3dabff1c-4808-40a2-962e-4c9e32b3ca30"
        }
      },
      "outputs": [],
      "source": [
        "# Visual 8:\n",
        "# Create a scatter plot of alcohol vs. density, colored by quality for white wine\n",
        "fig_white = px.scatter(df_white, x='alcohol', y='density', color='quality',\n",
        "                 title='Alcohol vs. Density for White Wine',\n",
        "                 labels={'alcohol': 'Alcohol', 'density': 'Density', 'quality': 'Quality'},\n",
        "                 color_continuous_scale='Viridis',\n",
        "                 hover_data=['fixed acidity', 'volatile acidity', 'citric acid', 'residual sugar', 'chlorides', 'free sulfur dioxide', 'total sulfur dioxide', 'pH', 'sulphates'])\n",
        "\n",
        "# Show the plot\n",
        "fig_white.show()"
      ]
    },
    {
      "cell_type": "code",
      "execution_count": null,
      "id": "f2038acf-31ad-4e8b-b3d2-0abdebc0a903",
      "metadata": {
        "ExecuteTime": {
          "end_time": "2023-07-11T07:12:52.317470+00:00",
          "start_time": "2023-07-11T07:12:44.545661+00:00"
        },
        "jupyter": {
          "outputs_hidden": false
        },
        "noteable": {
          "cell_type": "code",
          "output_collection_id": "2e2c64c3-7fff-4831-92ef-0971356f82a8"
        },
        "scrolled": true
      },
      "outputs": [],
      "source": [
        "# Visual 9:\n",
        "import matplotlib.pyplot as plt\n",
        "\n",
        "# List of features to plot against quality\n",
        "features = ['fixed acidity', 'volatile acidity', 'citric acid', 'residual sugar', 'chlorides', 'free sulfur dioxide', 'total sulfur dioxide', 'density', 'pH', 'sulphates', 'alcohol']\n",
        "\n",
        "# Calculate the number of rows and columns for subplots\n",
        "num_features = len(features)\n",
        "num_rows = (num_features + 2) // 3  # Round up to the nearest integer\n",
        "num_cols = min(3, num_features)  # Maximum 3 columns\n",
        "\n",
        "# Determine the number of empty subplots to remove\n",
        "num_empty = num_rows * num_cols - num_features\n",
        "\n",
        "# Create a figure with subplots for each feature\n",
        "fig, axs = plt.subplots(nrows=num_rows, ncols=num_cols, figsize=(15, 5*num_rows))  # Adjust the figure size as needed\n",
        "\n",
        "# Remove the empty subplots\n",
        "if num_empty > 0:\n",
        "    for i in range(num_empty):\n",
        "        fig.delaxes(axs[num_rows-1, num_cols-1-i])\n",
        "\n",
        "# For each feature, create a histogram of the feature values, grouped by quality\n",
        "for i, feature in enumerate(features):\n",
        "    row = i // num_cols  # Calculate the row index\n",
        "    col = i % num_cols  # Calculate the column index\n",
        "    \n",
        "    for quality in sorted(df_red['quality'].unique()):\n",
        "        data = df_red[df_red['quality'] == quality][feature]\n",
        "        axs[row, col].hist(data, bins=30, alpha=0.5, label=f'Quality {quality}')\n",
        "    \n",
        "    axs[row, col].set_title(f'Histogram of {feature} grouped by Quality')\n",
        "    axs[row, col].set_xlabel(feature)\n",
        "    axs[row, col].set_ylabel('Frequency')\n",
        "    axs[row, col].legend()\n",
        "\n",
        "# Adjust the layout\n",
        "plt.tight_layout()\n",
        "plt.show()"
      ]
    },
    {
      "cell_type": "code",
      "execution_count": null,
      "id": "ef3e974b-d2fb-42ca-8a52-b71e11a7b601",
      "metadata": {
        "ExecuteTime": {
          "end_time": "2023-07-11T07:13:02.198719+00:00",
          "start_time": "2023-07-11T07:12:53.158462+00:00"
        },
        "jupyter": {
          "outputs_hidden": false
        },
        "noteable": {
          "cell_type": "code",
          "output_collection_id": "109d6809-455e-4e11-8ea8-c239e2b3f67b"
        },
        "scrolled": true
      },
      "outputs": [],
      "source": [
        "# Visual 10:\n",
        "# List of features to plot against quality\n",
        "features = ['fixed acidity', 'volatile acidity', 'citric acid', 'residual sugar', 'chlorides', 'free sulfur dioxide', 'total sulfur dioxide', 'density', 'pH', 'sulphates', 'alcohol']\n",
        "\n",
        "# Calculate the number of rows and columns for subplots\n",
        "num_features = len(features)\n",
        "num_rows = (num_features + 2) // 3  # Round up to the nearest integer\n",
        "num_cols = min(3, num_features)  # Maximum 3 columns\n",
        "\n",
        "# Determine the number of empty subplots to remove\n",
        "num_empty = num_rows * num_cols - num_features\n",
        "\n",
        "# Create a figure with subplots for each feature\n",
        "fig, axs = plt.subplots(nrows=num_rows, ncols=num_cols, figsize=(15, 5*num_rows))  # Adjust the figure size as needed\n",
        "\n",
        "# Remove the empty subplots\n",
        "if num_empty > 0:\n",
        "    for i in range(num_empty):\n",
        "        fig.delaxes(axs[num_rows-1, num_cols-1-i])\n",
        "\n",
        "# For each feature, create a histogram of the feature values, grouped by quality\n",
        "for i, feature in enumerate(features):\n",
        "    row = i // num_cols  # Calculate the row index\n",
        "    col = i % num_cols  # Calculate the column index\n",
        "    \n",
        "    for quality in sorted(df_white['quality'].unique()):\n",
        "        data = df_white[df_white['quality'] == quality][feature]\n",
        "        axs[row, col].hist(data, bins=30, alpha=0.5, label=f'Quality {quality}')\n",
        "    \n",
        "    axs[row, col].set_title(f'Histogram of {feature} grouped by Quality')\n",
        "    axs[row, col].set_xlabel(feature)\n",
        "    axs[row, col].set_ylabel('Frequency')\n",
        "    axs[row, col].legend()\n",
        "\n",
        "# Adjust the layout\n",
        "plt.tight_layout()\n",
        "plt.show()"
      ]
    },
    {
      "cell_type": "code",
      "execution_count": null,
      "id": "038150aa-53ef-45d2-9eeb-1c799dd7515b",
      "metadata": {
        "ExecuteTime": {
          "end_time": "2023-07-11T07:21:45.150037+00:00",
          "start_time": "2023-07-11T07:21:38.074296+00:00"
        },
        "noteable": {
          "cell_type": "code",
          "output_collection_id": "b5ede933-1055-4f8b-b2cb-4b00bde5b971"
        }
      },
      "outputs": [],
      "source": [
        "# Visual 11: Pairplot of selected features for Red Wine\n",
        "selected_features = ['fixed acidity', 'volatile acidity', 'citric acid', 'residual sugar', 'chlorides']\n",
        "sns.pairplot(df_red[selected_features])\n",
        "plt.suptitle('Pairplot of Selected Features - Red Wine Data', y=1.02)\n",
        "plt.show()"
      ]
    },
    {
      "cell_type": "code",
      "execution_count": null,
      "id": "b64d074e-aaff-407a-8143-060f8a82d96d",
      "metadata": {
        "ExecuteTime": {
          "end_time": "2023-07-11T07:22:04.052073+00:00",
          "start_time": "2023-07-11T07:21:56.925346+00:00"
        },
        "noteable": {
          "cell_type": "code",
          "output_collection_id": "42b67ff2-3c7e-469c-919a-e8852d413999"
        }
      },
      "outputs": [],
      "source": [
        "# Visual 12: Pairplot of selected features for White Wine\n",
        "sns.pairplot(df_white[selected_features])\n",
        "plt.suptitle('Pairplot of Selected Features - White Wine Data', y=1.02)\n",
        "plt.show()"
      ]
    },
    {
      "cell_type": "code",
      "execution_count": null,
      "id": "6fc65a4c-9a68-40eb-8aa2-16f821930ed6",
      "metadata": {
        "ExecuteTime": {
          "end_time": "2023-07-11T07:22:25.232397+00:00",
          "start_time": "2023-07-11T07:22:23.724684+00:00"
        },
        "noteable": {
          "cell_type": "code",
          "output_collection_id": "150403ed-9b05-4e95-b7cb-4d9dd1b7a83f"
        }
      },
      "outputs": [],
      "source": [
        "# Visual 13: Violin plots of selected features for Red Wine\n",
        "fig, axs = plt.subplots(nrows=1, ncols=len(selected_features), figsize=(20, 5))\n",
        "for i, feature in enumerate(selected_features):\n",
        "    sns.violinplot(data=df_red, y=feature, ax=axs[i])\n",
        "    axs[i].set_title(f'Violin plot of {feature} - Red Wine Data')\n",
        "plt.tight_layout()\n",
        "plt.show()"
      ]
    },
    {
      "cell_type": "code",
      "execution_count": null,
      "id": "a077261b-83f0-461b-8dff-535393c48ce2",
      "metadata": {
        "ExecuteTime": {
          "end_time": "2023-07-11T07:22:43.760622+00:00",
          "start_time": "2023-07-11T07:22:42.466661+00:00"
        },
        "noteable": {
          "cell_type": "code",
          "output_collection_id": "ca4fad0f-dfe0-489d-8083-2facdee64d0b"
        }
      },
      "outputs": [],
      "source": [
        "# Visual 14: Violin plots of selected features for White Wine\n",
        "fig, axs = plt.subplots(nrows=1, ncols=len(selected_features), figsize=(20, 5))\n",
        "for i, feature in enumerate(selected_features):\n",
        "    sns.violinplot(data=df_white, y=feature, ax=axs[i])\n",
        "    axs[i].set_title(f'Violin plot of {feature} - White Wine Data')\n",
        "plt.tight_layout()\n",
        "plt.show()"
      ]
    },
    {
      "cell_type": "code",
      "execution_count": null,
      "id": "d14eb8a7-4a59-4f67-95ad-45c09be8c8ec",
      "metadata": {
        "ExecuteTime": {
          "end_time": "2023-07-11T07:23:00.663004+00:00",
          "start_time": "2023-07-11T07:22:59.924911+00:00"
        },
        "noteable": {
          "cell_type": "code",
          "output_collection_id": "ec69016f-797f-4cd7-af9c-c57f8c419768"
        }
      },
      "outputs": [],
      "source": [
        "# Visual 15: Scatter plot of 'fixed acidity' vs 'volatile acidity' for Red Wine\n",
        "plt.figure(figsize=(10, 6))\n",
        "sns.scatterplot(data=df_red, x='fixed acidity', y='volatile acidity', hue='quality', palette='viridis')\n",
        "plt.title('Scatter plot of Fixed Acidity vs Volatile Acidity - Red Wine Data')\n",
        "plt.show()"
      ]
    },
    {
      "cell_type": "code",
      "execution_count": null,
      "id": "24182f4c-b4ed-4af7-8bd8-996bd2754abb",
      "metadata": {
        "ExecuteTime": {
          "end_time": "2023-07-11T07:23:16.616391+00:00",
          "start_time": "2023-07-11T07:23:15.724715+00:00"
        },
        "noteable": {
          "cell_type": "code",
          "output_collection_id": "18c2f56e-6ed8-4b65-8271-7563c528de15"
        }
      },
      "outputs": [],
      "source": [
        "# Visual 16: Scatter plot of 'fixed acidity' vs 'volatile acidity' for White Wine\n",
        "plt.figure(figsize=(10, 6))\n",
        "sns.scatterplot(data=df_white, x='fixed acidity', y='volatile acidity', hue='quality', palette='viridis')\n",
        "plt.title('Scatter plot of Fixed Acidity vs Volatile Acidity - White Wine Data')\n",
        "plt.show()"
      ]
    },
    {
      "cell_type": "code",
      "execution_count": null,
      "id": "d9c1c8b0-7a44-40dc-8f61-cb0594e35350",
      "metadata": {
        "ExecuteTime": {
          "end_time": "2023-07-11T07:23:33.878325+00:00",
          "start_time": "2023-07-11T07:23:33.151594+00:00"
        },
        "noteable": {
          "cell_type": "code",
          "output_collection_id": "4ed7af33-7dc8-400e-981d-c8fb49e99079"
        }
      },
      "outputs": [],
      "source": [
        "# Visual 17: Scatter plot of 'fixed acidity' vs 'citric acid' for Red Wine\n",
        "plt.figure(figsize=(10, 6))\n",
        "sns.scatterplot(data=df_red, x='fixed acidity', y='citric acid', hue='quality', palette='viridis')\n",
        "plt.title('Scatter plot of Fixed Acidity vs Citric Acid - Red Wine Data')\n",
        "plt.show()"
      ]
    },
    {
      "cell_type": "code",
      "execution_count": null,
      "id": "e07e367f-14de-4e01-862d-4b7dc6498124",
      "metadata": {
        "ExecuteTime": {
          "end_time": "2023-07-11T07:23:50.196500+00:00",
          "start_time": "2023-07-11T07:23:49.287209+00:00"
        },
        "noteable": {
          "cell_type": "code",
          "output_collection_id": "24afece4-eb06-4eba-9c40-1639a103ba8e"
        }
      },
      "outputs": [],
      "source": [
        "# Visual 18: Scatter plot of 'fixed acidity' vs 'citric acid' for White Wine\n",
        "plt.figure(figsize=(10, 6))\n",
        "sns.scatterplot(data=df_white, x='fixed acidity', y='citric acid', hue='quality', palette='viridis')\n",
        "plt.title('Scatter plot of Fixed Acidity vs Citric Acid - White Wine Data')\n",
        "plt.show()"
      ]
    },
    {
      "cell_type": "code",
      "execution_count": null,
      "id": "926bd7e4-9154-499d-b5fe-a6e9b6d7aac3",
      "metadata": {
        "ExecuteTime": {
          "end_time": "2023-07-11T07:24:03.733904+00:00",
          "start_time": "2023-07-11T07:24:03.324934+00:00"
        },
        "noteable": {
          "cell_type": "code",
          "output_collection_id": "86ae8c8a-c14b-484f-a8f1-40b6c8e24071"
        }
      },
      "outputs": [],
      "source": [
        "# Visual 19: Boxplot of 'quality' for Red Wine\n",
        "plt.figure(figsize=(10, 6))\n",
        "sns.boxplot(data=df_red, y='quality')\n",
        "plt.title('Boxplot of Quality - Red Wine Data')\n",
        "plt.show()"
      ]
    },
    {
      "cell_type": "code",
      "execution_count": null,
      "id": "c1c67a14-97ed-4474-ae13-29111f38ab26",
      "metadata": {
        "ExecuteTime": {
          "end_time": "2023-07-11T07:24:17.131475+00:00",
          "start_time": "2023-07-11T07:24:16.699124+00:00"
        },
        "noteable": {
          "cell_type": "code",
          "output_collection_id": "eb850d08-5fe1-4fb7-81b1-b47dd221d142"
        }
      },
      "outputs": [],
      "source": [
        "# Visual 20: Boxplot of 'quality' for White Wine\n",
        "plt.figure(figsize=(10, 6))\n",
        "sns.boxplot(data=df_white, y='quality')\n",
        "plt.title('Boxplot of Quality - White Wine Data')\n",
        "plt.show()"
      ]
    }
  ],
  "metadata": {
    "kernel_info": {
      "name": "python3"
    },
    "kernelspec": {
      "display_name": "Python 3 (ipykernel)",
      "language": "python",
      "name": "python3"
    },
    "language_info": {
      "codemirror_mode": {
        "name": "ipython",
        "version": 3
      },
      "file_extension": ".py",
      "mimetype": "text/x-python",
      "name": "python",
      "nbconvert_exporter": "python",
      "pygments_lexer": "ipython3",
      "version": "3.9.16"
    },
    "noteable": {
      "last_transaction_id": "eef5ae4e-1dda-4013-9ce5-6ef940458cd7"
    },
    "noteable-chatgpt": {
      "create_notebook": {
        "openai_conversation_id": "147ae981-f598-5150-9fbd-9cb1f7c77a4f",
        "openai_ephemeral_user_id": "0ae8b293-afef-5ebf-8e99-87179e51569a"
      }
    },
    "selected_hardware_size": "small"
  },
  "nbformat": 4,
  "nbformat_minor": 5
}

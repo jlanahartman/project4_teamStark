{
  "nbformat": 4,
  "nbformat_minor": 5,
  "metadata": {
    "noteable-chatgpt": {
      "create_notebook": {
        "openai_conversation_id": "147ae981-f598-5150-9fbd-9cb1f7c77a4f",
        "openai_ephemeral_user_id": "0ae8b293-afef-5ebf-8e99-87179e51569a"
      }
    },
    "noteable": {
      "last_transaction_id": "eef5ae4e-1dda-4013-9ce5-6ef940458cd7"
    },
    "selected_hardware_size": "small",
    "kernel_info": {
      "name": "python3"
    },
    "kernelspec": {
      "display_name": "Python 3 (ipykernel)",
      "language": "python",
      "name": "python3"
    }
  },
  "cells": [
    {
      "id": "0653f685-fc84-498c-8d7a-b952d780d906",
      "cell_type": "code",
      "metadata": {
        "noteable": {
          "cell_type": "code",
          "output_collection_id": "867e3794-07da-4fb4-bca9-75826df14b81"
        },
        "ExecuteTime": {
          "end_time": "2023-07-11T07:12:25.587062+00:00",
          "start_time": "2023-07-11T07:12:25.392873+00:00"
        },
        "jupyter": {
          "outputs_hidden": true
        }
      },
      "execution_count": null,
      "source": "import pandas as pd\n\n# Load the CSV files\ndf_red = pd.read_csv('visualization/qualityRedWineDF.csv')\ndf_white = pd.read_csv('visualization/qualityWhiteWineDF.csv')\n\n# Display the first few rows of the DataFrames\ndf_red.head(), df_white.head()",
      "outputs": []
    },
    {
      "id": "b8a8e3ac-d71c-439a-8a19-b87626daf004",
      "cell_type": "code",
      "metadata": {
        "noteable": {
          "cell_type": "code",
          "output_collection_id": "2db83ea0-7049-458e-8379-e73e013adb91"
        },
        "ExecuteTime": {
          "end_time": "2023-07-11T07:12:25.827591+00:00",
          "start_time": "2023-07-11T07:12:25.596880+00:00"
        },
        "jupyter": {
          "source_hidden": false,
          "outputs_hidden": true
        }
      },
      "execution_count": null,
      "source": "# Describe the red wine data\nred_desc = df_red.describe()\n\n# Describe the white wine data\nwhite_desc = df_white.describe()\n\nred_desc, white_desc",
      "outputs": []
    },
    {
      "id": "c617865c-a234-476c-ad2f-c92eafc25d54",
      "cell_type": "code",
      "metadata": {
        "noteable": {
          "cell_type": "code",
          "output_collection_id": "6ac95704-9812-4fa3-8246-4c10768a41f1"
        },
        "ExecuteTime": {
          "end_time": "2023-07-11T07:12:26.017343+00:00",
          "start_time": "2023-07-11T07:12:25.838112+00:00"
        },
        "jupyter": {
          "outputs_hidden": true
        }
      },
      "execution_count": null,
      "source": "# Drop the 'Unnamed: 0' column from the datasets\ndf_red = df_red.drop(columns=['Unnamed: 0'])\ndf_white = df_white.drop(columns=['Unnamed: 0'])\n\n# Display the first few rows of the DataFrames to confirm\ndf_red.head(), df_white.head()",
      "outputs": []
    },
    {
      "id": "d77060f1-1aec-4c27-98a0-ca6cdada06fc",
      "cell_type": "code",
      "metadata": {
        "noteable": {
          "cell_type": "code",
          "output_collection_id": "c599ee77-a9f6-43ac-bf6c-7272030b349b"
        },
        "ExecuteTime": {
          "end_time": "2023-07-11T07:12:27.451081+00:00",
          "start_time": "2023-07-11T07:12:26.030917+00:00"
        }
      },
      "execution_count": null,
      "source": "import matplotlib.pyplot as plt\nimport seaborn as sns\n\n# Create a histogram of the quality scores for the red and white wines using seaborn\nplt.figure(figsize=(10, 6))\nsns.histplot(df_red['quality'], color='xkcd:red wine', label='Red Wine', bins=10)\nsns.histplot(df_white['quality'], color='xkcd:pale gold', label='White Wine', bins=10)\nplt.title('Distribution of Quality Scores for Red and White Wines')\nplt.xlabel('Quality Score')\nplt.ylabel('Frequency')\nplt.legend()\nplt.grid(True)\nplt.show()",
      "outputs": []
    },
    {
      "id": "07e6fdeb-5e40-404a-998b-c769f29b30a2",
      "cell_type": "code",
      "metadata": {
        "jupyter": {
          "outputs_hidden": false,
          "source_hidden": false
        },
        "noteable": {
          "cell_type": "code",
          "output_collection_id": "e263de98-7fc8-4fe5-8080-bb8495e1fa89"
        },
        "ExecuteTime": {
          "end_time": "2023-07-11T07:12:34.903505+00:00",
          "start_time": "2023-07-11T07:12:29.931027+00:00"
        }
      },
      "execution_count": null,
      "source": "# Histograms of all features in the Red Wine dataset\ndf_red.hist(bins=15, figsize=(20, 15))\nplt.suptitle('Histograms of all features - Red Wine Data')\nplt.show()\n\n# Histograms of all features in the White Wine dataset\ndf_white.hist(bins=15, figsize=(20, 15))\nplt.suptitle('Histograms of all features - White Wine Data')\nplt.show()",
      "outputs": []
    },
    {
      "id": "6f363634-448d-462e-9b9f-9aad4f20e7ca",
      "cell_type": "code",
      "metadata": {
        "noteable": {
          "cell_type": "code",
          "output_collection_id": "f13b3781-ff76-458d-b5c8-928f09e2bf4e"
        },
        "ExecuteTime": {
          "end_time": "2023-07-11T07:12:37.429902+00:00",
          "start_time": "2023-07-11T07:12:35.296514+00:00"
        },
        "scrolled": false
      },
      "execution_count": null,
      "source": "# Create a list of variables to plot\nvariables = ['fixed acidity', 'volatile acidity', 'citric acid', 'residual sugar', 'chlorides', 'free sulfur dioxide', 'total sulfur dioxide', 'density', 'pH', 'sulphates', 'alcohol']\n\n# Create a figure\nfig, axs = plt.subplots(nrows=len(variables), figsize=(5, 30))\n\n# For each variable, create a boxplot\nfor i, variable in enumerate(variables):\n    sns.boxplot(data=[df_red[variable], df_white[variable]], ax=axs[i])\n    axs[i].set_xticklabels(['Red Wine', 'White Wine'])\n    axs[i].set_title(f'Boxplot of {variable}')\n\n# Adjust the layout\nplt.tight_layout()\nplt.show()",
      "outputs": []
    },
    {
      "id": "a0a32f34-26e9-46cd-a82a-0c0f3bac2202",
      "cell_type": "code",
      "metadata": {
        "noteable": {
          "cell_type": "code",
          "output_collection_id": "d1c993c2-837f-46fe-8fa1-9341bddd206f"
        },
        "ExecuteTime": {
          "end_time": "2023-07-11T07:12:38.838788+00:00",
          "start_time": "2023-07-11T07:12:37.805282+00:00"
        },
        "scrolled": true
      },
      "execution_count": null,
      "source": "# Calculate the correlation matrix for the red wine data\ncorr_red = df_red.corr()\n\n# Create a heatmap of the correlation matrix\nplt.figure(figsize=(12, 10))\nsns.heatmap(corr_red, annot=True, fmt='.2f', cmap='coolwarm', square=True)\nplt.title('Correlation Matrix for Red Wine Variables')\nplt.show()",
      "outputs": []
    },
    {
      "id": "1c1706d3-b769-4873-bca5-ca62d0f03ade",
      "cell_type": "code",
      "metadata": {
        "noteable": {
          "cell_type": "code",
          "output_collection_id": "4566b7a3-3c5f-4425-a8a1-723917315ed7"
        },
        "ExecuteTime": {
          "end_time": "2023-07-11T07:12:40.341780+00:00",
          "start_time": "2023-07-11T07:12:39.315071+00:00"
        }
      },
      "execution_count": null,
      "source": "# Calculate the correlation matrix for the white wine data\ncorr_white = df_white.corr()\n\n# Create a heatmap of the correlation matrix\nplt.figure(figsize=(12, 10))\nsns.heatmap(corr_white, annot=True, fmt='.2f', cmap='coolwarm', square=True)\nplt.title('Correlation Matrix for White Wine Variables')\nplt.show()",
      "outputs": []
    },
    {
      "id": "0dad37c5-a0a9-493b-9887-dcf04797714c",
      "cell_type": "code",
      "metadata": {
        "noteable": {
          "cell_type": "code",
          "output_collection_id": "af5c04f2-251a-46f5-9b12-91f08ecd23bd"
        },
        "ExecuteTime": {
          "end_time": "2023-07-11T07:12:41.766057+00:00",
          "start_time": "2023-07-11T07:12:40.856985+00:00"
        },
        "scrolled": true
      },
      "execution_count": null,
      "source": "import plotly.express as px\n\n# Create a scatter plot of alcohol vs. density, colored by quality for red wine\nfig_red = px.scatter(df_red, x='alcohol', y='density', color='quality',\n                 title='Alcohol vs. Density for Red Wine',\n                 labels={'alcohol': 'Alcohol', 'density': 'Density', 'quality': 'Quality'},\n                 color_continuous_scale='Viridis',\n                 hover_data=['fixed acidity', 'volatile acidity', 'citric acid', 'residual sugar', 'chlorides', 'free sulfur dioxide', 'total sulfur dioxide', 'pH', 'sulphates'])\n\n# Show the plot\nfig_red.show()",
      "outputs": []
    },
    {
      "id": "9839efa1-73f8-4313-ab26-4485aaaa7666",
      "cell_type": "code",
      "metadata": {
        "noteable": {
          "cell_type": "code",
          "output_collection_id": "3dabff1c-4808-40a2-962e-4c9e32b3ca30"
        },
        "ExecuteTime": {
          "end_time": "2023-07-11T07:12:43.239278+00:00",
          "start_time": "2023-07-11T07:12:42.935923+00:00"
        }
      },
      "execution_count": null,
      "source": "# Create a scatter plot of alcohol vs. density, colored by quality for white wine\nfig_white = px.scatter(df_white, x='alcohol', y='density', color='quality',\n                 title='Alcohol vs. Density for White Wine',\n                 labels={'alcohol': 'Alcohol', 'density': 'Density', 'quality': 'Quality'},\n                 color_continuous_scale='Viridis',\n                 hover_data=['fixed acidity', 'volatile acidity', 'citric acid', 'residual sugar', 'chlorides', 'free sulfur dioxide', 'total sulfur dioxide', 'pH', 'sulphates'])\n\n# Show the plot\nfig_white.show()",
      "outputs": []
    },
    {
      "id": "f2038acf-31ad-4e8b-b3d2-0abdebc0a903",
      "cell_type": "code",
      "metadata": {
        "noteable": {
          "cell_type": "code",
          "output_collection_id": "2e2c64c3-7fff-4831-92ef-0971356f82a8"
        },
        "ExecuteTime": {
          "end_time": "2023-07-11T07:12:52.317470+00:00",
          "start_time": "2023-07-11T07:12:44.545661+00:00"
        },
        "jupyter": {
          "outputs_hidden": false
        },
        "scrolled": true
      },
      "execution_count": null,
      "source": "import matplotlib.pyplot as plt\n\n# List of features to plot against quality\nfeatures = ['fixed acidity', 'volatile acidity', 'citric acid', 'residual sugar', 'chlorides', 'free sulfur dioxide', 'total sulfur dioxide', 'density', 'pH', 'sulphates', 'alcohol']\n\n# Calculate the number of rows and columns for subplots\nnum_features = len(features)\nnum_rows = (num_features + 2) // 3  # Round up to the nearest integer\nnum_cols = min(3, num_features)  # Maximum 3 columns\n\n# Determine the number of empty subplots to remove\nnum_empty = num_rows * num_cols - num_features\n\n# Create a figure with subplots for each feature\nfig, axs = plt.subplots(nrows=num_rows, ncols=num_cols, figsize=(15, 5*num_rows))  # Adjust the figure size as needed\n\n# Remove the empty subplots\nif num_empty > 0:\n    for i in range(num_empty):\n        fig.delaxes(axs[num_rows-1, num_cols-1-i])\n\n# For each feature, create a histogram of the feature values, grouped by quality\nfor i, feature in enumerate(features):\n    row = i // num_cols  # Calculate the row index\n    col = i % num_cols  # Calculate the column index\n    \n    for quality in sorted(df_red['quality'].unique()):\n        data = df_red[df_red['quality'] == quality][feature]\n        axs[row, col].hist(data, bins=30, alpha=0.5, label=f'Quality {quality}')\n    \n    axs[row, col].set_title(f'Histogram of {feature} grouped by Quality')\n    axs[row, col].set_xlabel(feature)\n    axs[row, col].set_ylabel('Frequency')\n    axs[row, col].legend()\n\n# Adjust the layout\nplt.tight_layout()\nplt.show()",
      "outputs": []
    },
    {
      "id": "ef3e974b-d2fb-42ca-8a52-b71e11a7b601",
      "cell_type": "code",
      "metadata": {
        "noteable": {
          "cell_type": "code",
          "output_collection_id": "109d6809-455e-4e11-8ea8-c239e2b3f67b"
        },
        "ExecuteTime": {
          "end_time": "2023-07-11T07:13:02.198719+00:00",
          "start_time": "2023-07-11T07:12:53.158462+00:00"
        },
        "jupyter": {
          "outputs_hidden": false
        },
        "scrolled": true
      },
      "execution_count": null,
      "source": "# List of features to plot against quality\nfeatures = ['fixed acidity', 'volatile acidity', 'citric acid', 'residual sugar', 'chlorides', 'free sulfur dioxide', 'total sulfur dioxide', 'density', 'pH', 'sulphates', 'alcohol']\n\n# Calculate the number of rows and columns for subplots\nnum_features = len(features)\nnum_rows = (num_features + 2) // 3  # Round up to the nearest integer\nnum_cols = min(3, num_features)  # Maximum 3 columns\n\n# Determine the number of empty subplots to remove\nnum_empty = num_rows * num_cols - num_features\n\n# Create a figure with subplots for each feature\nfig, axs = plt.subplots(nrows=num_rows, ncols=num_cols, figsize=(15, 5*num_rows))  # Adjust the figure size as needed\n\n# Remove the empty subplots\nif num_empty > 0:\n    for i in range(num_empty):\n        fig.delaxes(axs[num_rows-1, num_cols-1-i])\n\n# For each feature, create a histogram of the feature values, grouped by quality\nfor i, feature in enumerate(features):\n    row = i // num_cols  # Calculate the row index\n    col = i % num_cols  # Calculate the column index\n    \n    for quality in sorted(df_white['quality'].unique()):\n        data = df_white[df_white['quality'] == quality][feature]\n        axs[row, col].hist(data, bins=30, alpha=0.5, label=f'Quality {quality}')\n    \n    axs[row, col].set_title(f'Histogram of {feature} grouped by Quality')\n    axs[row, col].set_xlabel(feature)\n    axs[row, col].set_ylabel('Frequency')\n    axs[row, col].legend()\n\n# Adjust the layout\nplt.tight_layout()\nplt.show()",
      "outputs": []
    },
    {
      "id": "038150aa-53ef-45d2-9eeb-1c799dd7515b",
      "cell_type": "code",
      "metadata": {
        "noteable": {
          "cell_type": "code",
          "output_collection_id": "b5ede933-1055-4f8b-b2cb-4b00bde5b971"
        },
        "ExecuteTime": {
          "end_time": "2023-07-11T07:21:45.150037+00:00",
          "start_time": "2023-07-11T07:21:38.074296+00:00"
        }
      },
      "execution_count": null,
      "source": "# Visual 1: Pairplot of selected features for Red Wine\nselected_features = ['fixed acidity', 'volatile acidity', 'citric acid', 'residual sugar', 'chlorides']\nsns.pairplot(df_red[selected_features])\nplt.suptitle('Pairplot of Selected Features - Red Wine Data', y=1.02)\nplt.show()",
      "outputs": []
    },
    {
      "id": "b64d074e-aaff-407a-8143-060f8a82d96d",
      "cell_type": "code",
      "metadata": {
        "noteable": {
          "cell_type": "code",
          "output_collection_id": "42b67ff2-3c7e-469c-919a-e8852d413999"
        },
        "ExecuteTime": {
          "end_time": "2023-07-11T07:22:04.052073+00:00",
          "start_time": "2023-07-11T07:21:56.925346+00:00"
        }
      },
      "execution_count": null,
      "source": "# Visual 2: Pairplot of selected features for White Wine\nsns.pairplot(df_white[selected_features])\nplt.suptitle('Pairplot of Selected Features - White Wine Data', y=1.02)\nplt.show()",
      "outputs": []
    },
    {
      "id": "6fc65a4c-9a68-40eb-8aa2-16f821930ed6",
      "cell_type": "code",
      "metadata": {
        "noteable": {
          "cell_type": "code",
          "output_collection_id": "150403ed-9b05-4e95-b7cb-4d9dd1b7a83f"
        },
        "ExecuteTime": {
          "end_time": "2023-07-11T07:22:25.232397+00:00",
          "start_time": "2023-07-11T07:22:23.724684+00:00"
        }
      },
      "execution_count": null,
      "source": "# Visual 3: Violin plots of selected features for Red Wine\nfig, axs = plt.subplots(nrows=1, ncols=len(selected_features), figsize=(20, 5))\nfor i, feature in enumerate(selected_features):\n    sns.violinplot(data=df_red, y=feature, ax=axs[i])\n    axs[i].set_title(f'Violin plot of {feature} - Red Wine Data')\nplt.tight_layout()\nplt.show()",
      "outputs": []
    },
    {
      "id": "a077261b-83f0-461b-8dff-535393c48ce2",
      "cell_type": "code",
      "metadata": {
        "noteable": {
          "cell_type": "code",
          "output_collection_id": "ca4fad0f-dfe0-489d-8083-2facdee64d0b"
        },
        "ExecuteTime": {
          "end_time": "2023-07-11T07:22:43.760622+00:00",
          "start_time": "2023-07-11T07:22:42.466661+00:00"
        }
      },
      "execution_count": null,
      "source": "# Visual 4: Violin plots of selected features for White Wine\nfig, axs = plt.subplots(nrows=1, ncols=len(selected_features), figsize=(20, 5))\nfor i, feature in enumerate(selected_features):\n    sns.violinplot(data=df_white, y=feature, ax=axs[i])\n    axs[i].set_title(f'Violin plot of {feature} - White Wine Data')\nplt.tight_layout()\nplt.show()",
      "outputs": []
    },
    {
      "id": "d14eb8a7-4a59-4f67-95ad-45c09be8c8ec",
      "cell_type": "code",
      "metadata": {
        "noteable": {
          "cell_type": "code",
          "output_collection_id": "ec69016f-797f-4cd7-af9c-c57f8c419768"
        },
        "ExecuteTime": {
          "end_time": "2023-07-11T07:23:00.663004+00:00",
          "start_time": "2023-07-11T07:22:59.924911+00:00"
        }
      },
      "execution_count": null,
      "source": "# Visual 5: Scatter plot of 'fixed acidity' vs 'volatile acidity' for Red Wine\nplt.figure(figsize=(10, 6))\nsns.scatterplot(data=df_red, x='fixed acidity', y='volatile acidity', hue='quality', palette='viridis')\nplt.title('Scatter plot of Fixed Acidity vs Volatile Acidity - Red Wine Data')\nplt.show()",
      "outputs": []
    },
    {
      "id": "24182f4c-b4ed-4af7-8bd8-996bd2754abb",
      "cell_type": "code",
      "metadata": {
        "noteable": {
          "cell_type": "code",
          "output_collection_id": "18c2f56e-6ed8-4b65-8271-7563c528de15"
        },
        "ExecuteTime": {
          "end_time": "2023-07-11T07:23:16.616391+00:00",
          "start_time": "2023-07-11T07:23:15.724715+00:00"
        }
      },
      "execution_count": null,
      "source": "# Visual 6: Scatter plot of 'fixed acidity' vs 'volatile acidity' for White Wine\nplt.figure(figsize=(10, 6))\nsns.scatterplot(data=df_white, x='fixed acidity', y='volatile acidity', hue='quality', palette='viridis')\nplt.title('Scatter plot of Fixed Acidity vs Volatile Acidity - White Wine Data')\nplt.show()",
      "outputs": []
    },
    {
      "id": "d9c1c8b0-7a44-40dc-8f61-cb0594e35350",
      "cell_type": "code",
      "metadata": {
        "noteable": {
          "cell_type": "code",
          "output_collection_id": "4ed7af33-7dc8-400e-981d-c8fb49e99079"
        },
        "ExecuteTime": {
          "end_time": "2023-07-11T07:23:33.878325+00:00",
          "start_time": "2023-07-11T07:23:33.151594+00:00"
        }
      },
      "execution_count": null,
      "source": "# Visual 7: Scatter plot of 'fixed acidity' vs 'citric acid' for Red Wine\nplt.figure(figsize=(10, 6))\nsns.scatterplot(data=df_red, x='fixed acidity', y='citric acid', hue='quality', palette='viridis')\nplt.title('Scatter plot of Fixed Acidity vs Citric Acid - Red Wine Data')\nplt.show()",
      "outputs": []
    },
    {
      "id": "e07e367f-14de-4e01-862d-4b7dc6498124",
      "cell_type": "code",
      "metadata": {
        "noteable": {
          "cell_type": "code",
          "output_collection_id": "24afece4-eb06-4eba-9c40-1639a103ba8e"
        },
        "ExecuteTime": {
          "end_time": "2023-07-11T07:23:50.196500+00:00",
          "start_time": "2023-07-11T07:23:49.287209+00:00"
        }
      },
      "execution_count": null,
      "source": "# Visual 8: Scatter plot of 'fixed acidity' vs 'citric acid' for White Wine\nplt.figure(figsize=(10, 6))\nsns.scatterplot(data=df_white, x='fixed acidity', y='citric acid', hue='quality', palette='viridis')\nplt.title('Scatter plot of Fixed Acidity vs Citric Acid - White Wine Data')\nplt.show()",
      "outputs": []
    },
    {
      "id": "926bd7e4-9154-499d-b5fe-a6e9b6d7aac3",
      "cell_type": "code",
      "metadata": {
        "noteable": {
          "cell_type": "code",
          "output_collection_id": "86ae8c8a-c14b-484f-a8f1-40b6c8e24071"
        },
        "ExecuteTime": {
          "end_time": "2023-07-11T07:24:03.733904+00:00",
          "start_time": "2023-07-11T07:24:03.324934+00:00"
        }
      },
      "execution_count": null,
      "source": "# Visual 9: Boxplot of 'quality' for Red Wine\nplt.figure(figsize=(10, 6))\nsns.boxplot(data=df_red, y='quality')\nplt.title('Boxplot of Quality - Red Wine Data')\nplt.show()",
      "outputs": []
    },
    {
      "id": "c1c67a14-97ed-4474-ae13-29111f38ab26",
      "cell_type": "code",
      "metadata": {
        "noteable": {
          "cell_type": "code",
          "output_collection_id": "eb850d08-5fe1-4fb7-81b1-b47dd221d142"
        },
        "ExecuteTime": {
          "end_time": "2023-07-11T07:24:17.131475+00:00",
          "start_time": "2023-07-11T07:24:16.699124+00:00"
        }
      },
      "execution_count": null,
      "source": "# Visual 10: Boxplot of 'quality' for White Wine\nplt.figure(figsize=(10, 6))\nsns.boxplot(data=df_white, y='quality')\nplt.title('Boxplot of Quality - White Wine Data')\nplt.show()",
      "outputs": []
    }
  ]
}
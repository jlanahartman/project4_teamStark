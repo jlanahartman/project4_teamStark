{
  "nbformat": 4,
  "nbformat_minor": 5,
  "metadata": {
    "noteable-chatgpt": {
      "create_notebook": {
        "openai_conversation_id": "bea900d8-9119-5ec1-a7b9-da2ddd577293",
        "openai_ephemeral_user_id": "76443093-0452-53e7-98a9-756193c81639"
      }
    },
    "noteable": {
      "last_transaction_id": "69ae5436-dddd-4597-9dc4-8504eb4ca4db"
    },
    "selected_hardware_size": "small"
  },
  "cells": [
    {
      "id": "d92cf3c2-59a7-4778-9450-f7f45134e8f4",
      "cell_type": "code",
      "metadata": {
        "noteable": {
          "cell_type": "code",
          "output_collection_id": "6177d28e-57b2-47b9-89c0-1cd5b5da69f4"
        },
        "ExecuteTime": {
          "end_time": "2023-07-11T04:19:48.652967+00:00",
          "start_time": "2023-07-11T04:19:47.804762+00:00"
        },
        "jupyter": {
          "outputs_hidden": true
        }
      },
      "execution_count": null,
      "source": "import pandas as pd\nimport numpy as np\nimport matplotlib.pyplot as plt\nimport seaborn as sns\n\n# Load the datasets\nred_wine_df = pd.read_csv('visualization/qualityRedWineDF.csv')\nwhite_wine_df = pd.read_csv('visualization/qualityWhiteWineDF.csv')\n\n# Check the shape of the data and the datatypes of the features\nprint('Red Wine Data')\nprint('Shape:', red_wine_df.shape)\nprint('Data Types:')\nprint(red_wine_df.dtypes)\nprint('\\n')\nprint('White Wine Data')\nprint('Shape:', white_wine_df.shape)\nprint('Data Types:')\nprint(white_wine_df.dtypes)",
      "outputs": []
    },
    {
      "id": "f46b950d-1b34-4d2f-b953-6426998bff39",
      "cell_type": "code",
      "metadata": {
        "noteable": {
          "cell_type": "code",
          "output_collection_id": "8a6ff252-c4f0-43cd-be00-9fcd38c795f3"
        },
        "ExecuteTime": {
          "end_time": "2023-07-11T04:20:17.063209+00:00",
          "start_time": "2023-07-11T04:20:16.808035+00:00"
        },
        "jupyter": {
          "outputs_hidden": true
        }
      },
      "execution_count": null,
      "source": "# Display the first few rows of the datasets\nprint('Red Wine Data')\nprint(red_wine_df.head())\nprint('\\n')\nprint('White Wine Data')\nprint(white_wine_df.head())\n\n# Get summary statistics\nprint('\\nRed Wine Data - Summary Statistics')\nprint(red_wine_df.describe())\nprint('\\n')\nprint('White Wine Data - Summary Statistics')\nprint(white_wine_df.describe())",
      "outputs": []
    },
    {
      "id": "f1a49183-9901-42e1-9079-4658a54e3901",
      "cell_type": "code",
      "metadata": {
        "noteable": {
          "cell_type": "code",
          "output_collection_id": "78d21059-5bd1-41a1-9be2-9576228fb7b8"
        },
        "ExecuteTime": {
          "end_time": "2023-07-11T04:22:51.360343+00:00",
          "start_time": "2023-07-11T04:22:51.199393+00:00"
        },
        "jupyter": {
          "outputs_hidden": true
        }
      },
      "execution_count": null,
      "source": "# Check for missing values in the datasets\nprint('Red Wine Data - Missing Values')\nprint(red_wine_df.isnull().sum())\nprint('\\n')\nprint('White Wine Data - Missing Values')\nprint(white_wine_df.isnull().sum())",
      "outputs": []
    },
    {
      "id": "d568ba64-869c-4099-9f1a-db12f901bcff",
      "cell_type": "code",
      "metadata": {
        "noteable": {
          "cell_type": "code",
          "output_collection_id": "88bb7b43-ec7a-48ed-8be3-8da477cdf6b2"
        },
        "ExecuteTime": {
          "end_time": "2023-07-11T04:28:18.742258+00:00",
          "start_time": "2023-07-11T04:28:18.579276+00:00"
        },
        "jupyter": {
          "outputs_hidden": true
        }
      },
      "execution_count": null,
      "source": "# Calculate the skewness of all features in the datasets\nred_wine_skewness = red_wine_df.drop(columns=['Unnamed: 0']).skew()\nprint('Red Wine Data - Skewness:')\nprint(red_wine_skewness)\nprint('\\n')\n\nwhite_wine_skewness = white_wine_df.drop(columns=['Unnamed: 0']).skew()\nprint('White Wine Data - Skewness:')\nprint(white_wine_skewness)",
      "outputs": []
    },
    {
      "id": "c6eb6541-a619-46b6-b3e3-2382e5552692",
      "cell_type": "code",
      "metadata": {
        "noteable": {
          "cell_type": "code",
          "output_collection_id": "5af8a456-a2da-436f-aa47-9b0af22c4b38"
        },
        "ExecuteTime": {
          "end_time": "2023-07-11T04:31:32.260965+00:00",
          "start_time": "2023-07-11T04:31:32.010209+00:00"
        },
        "jupyter": {
          "outputs_hidden": true
        }
      },
      "execution_count": null,
      "source": "# Function to remove outliers based on the IQR\ndef remove_outliers(df, columns):\n    for col in columns:\n        Q1 = df[col].quantile(0.25)\n        Q3 = df[col].quantile(0.75)\n        IQR = Q3 - Q1\n        df = df[~((df[col] < (Q1 - 1.5 * IQR)) | (df[col] > (Q3 + 1.5 * IQR)))]\n    return df\n\n# Define the columns with outliers\noutlier_columns = ['residual sugar', 'chlorides', 'free sulfur dioxide', 'total sulfur dioxide', 'sulphates']\n\n# Remove outliers from the red wine data\nred_wine_df_clean = remove_outliers(red_wine_df, outlier_columns)\nprint('Red Wine Data - Cleaned')\nprint(red_wine_df_clean.describe())\nprint('\\n')\n\n# Remove outliers from the white wine data\nwhite_wine_df_clean = remove_outliers(white_wine_df, outlier_columns)\nprint('White Wine Data - Cleaned')\nprint(white_wine_df_clean.describe())",
      "outputs": []
    },
    {
      "id": "86e2d80b-028a-4f51-a29e-c43a8d9270f7",
      "cell_type": "code",
      "metadata": {
        "noteable": {
          "cell_type": "code",
          "output_collection_id": "8eac7227-1e2e-440e-a3a1-6cd6e63d5c8a"
        },
        "ExecuteTime": {
          "end_time": "2023-07-11T04:34:22.629582+00:00",
          "start_time": "2023-07-11T04:34:22.465301+00:00"
        }
      },
      "execution_count": null,
      "source": "# Calculate the skewness of all features in the cleaned datasets\nred_wine_skewness_clean = red_wine_df_clean.drop(columns=['Unnamed: 0']).skew()\nprint('Red Wine Data (Cleaned) - Skewness:')\nprint(red_wine_skewness_clean)\nprint('\\n')\n\nwhite_wine_skewness_clean = white_wine_df_clean.drop(columns=['Unnamed: 0']).skew()\nprint('White Wine Data (Cleaned) - Skewness:')\nprint(white_wine_skewness_clean)",
      "outputs": []
    },
    {
      "id": "4be76969-b720-46b9-8c6c-28fa15608439",
      "cell_type": "code",
      "metadata": {
        "noteable": {
          "cell_type": "code",
          "output_collection_id": "6b9ca4cc-d219-4e79-a653-53bcd93dab18"
        },
        "ExecuteTime": {
          "end_time": "2023-07-11T04:46:32.679141+00:00",
          "start_time": "2023-07-11T04:46:30.805739+00:00"
        }
      },
      "execution_count": null,
      "source": "import seaborn as sns\n\n# Correlation heatmap for the Red Wine dataset\nplt.figure(figsize=(12,10))\ncorrelation_matrix = red_wine_df_clean.drop(columns=['Unnamed: 0']).corr()\nsns.heatmap(correlation_matrix, annot=True, cmap='coolwarm')\nplt.title('Correlation Heatmap - Red Wine Data')\nplt.show()\n\n# Correlation heatmap for the White Wine dataset\nplt.figure(figsize=(12,10))\ncorrelation_matrix = white_wine_df_clean.drop(columns=['Unnamed: 0']).corr()\nsns.heatmap(correlation_matrix, annot=True, cmap='coolwarm')\nplt.title('Correlation Heatmap - White Wine Data')\nplt.show()",
      "outputs": []
    },
    {
      "id": "87472f67-3fe4-4439-819a-a70c975d7291",
      "cell_type": "code",
      "metadata": {
        "noteable": {
          "cell_type": "code",
          "output_collection_id": "bcb81a9b-1c50-4d55-91f4-b889536e3f3e"
        },
        "ExecuteTime": {
          "end_time": "2023-07-11T04:47:02.345847+00:00",
          "start_time": "2023-07-11T04:46:57.445976+00:00"
        }
      },
      "execution_count": null,
      "source": "# Histograms of all features in the Red Wine dataset\nred_wine_df_clean.drop(columns=['Unnamed: 0']).hist(bins=15, figsize=(20, 15))\nplt.suptitle('Histograms of all features - Red Wine Data')\nplt.show()\n\n# Histograms of all features in the White Wine dataset\nwhite_wine_df_clean.drop(columns=['Unnamed: 0']).hist(bins=15, figsize=(20, 15))\nplt.suptitle('Histograms of all features - White Wine Data')\nplt.show()",
      "outputs": []
    },
    {
      "id": "bff99d23-ef0d-4dc8-84fc-9609a1ea9dcd",
      "cell_type": "code",
      "metadata": {
        "noteable": {
          "cell_type": "code",
          "output_collection_id": "9d154c05-c2af-4905-82b8-c6c9f3f0258b"
        },
        "ExecuteTime": {
          "end_time": "2023-07-11T04:49:52.056323+00:00",
          "start_time": "2023-07-11T04:49:34.930578+00:00"
        },
        "jupyter": {
          "outputs_hidden": true
        }
      },
      "execution_count": null,
      "source": "# Function to create overlaid histograms of each feature to quality\ndef plot_histograms(df, title):\n    features = df.columns.drop(['Unnamed: 0', 'quality'])\n    for feature in features:\n        plt.figure(figsize=(10,6))\n        for quality in df['quality'].unique():\n            subset = df[df['quality'] == quality]\n            sns.histplot(subset[feature], kde=False, label=str(quality))\n        plt.title(f'{title} - {feature} to Quality')\n        plt.legend(title='Quality')\n        plt.show()\n\n# Create overlaid histograms of each feature to quality for the Red Wine dataset\nplot_histograms(red_wine_df_clean, 'Red Wine Data')\n\n# Create overlaid histograms of each feature to quality for the White Wine dataset\nplot_histograms(white_wine_df_clean, 'White Wine Data')",
      "outputs": []
    },
    {
      "id": "36bfaa90-5f9a-4173-a789-1a923f82d174",
      "cell_type": "code",
      "metadata": {
        "noteable": {
          "cell_type": "code",
          "output_collection_id": "51ded1d5-5474-4352-9ae3-bb3e4b3c7186"
        },
        "ExecuteTime": {
          "end_time": "2023-07-11T04:59:08.023599+00:00",
          "start_time": "2023-07-11T04:58:46.521732+00:00"
        },
        "jupyter": {
          "outputs_hidden": false
        },
        "scrolled": false
      },
      "execution_count": null,
      "source": "# Function to create improved overlaid histograms of each feature to quality\ndef plot_improved_histograms(df, title):\n    features = df.columns.drop(['Unnamed: 0', 'quality'])\n    for feature in features:\n        plt.figure(figsize=(10,6))\n        for quality in df['quality'].unique():\n            subset = df[df['quality'] == quality]\n            sns.histplot(subset[feature], kde=True, stat='density', bins=30, label=str(quality))\n        plt.title(f'{title} - {feature} to Quality')\n        plt.legend(title='Quality')\n        plt.show()\n\n# Create improved overlaid histograms of each feature to quality for the Red Wine dataset\nplot_improved_histograms(red_wine_df_clean, 'Red Wine Data')\n\n# Create improved overlaid histograms of each feature to quality for the White Wine dataset\nplot_improved_histograms(white_wine_df_clean, 'White Wine Data')",
      "outputs": []
    },
    {
      "id": "96400dba-60a5-4ae6-8aa8-71e8cc44c27a",
      "cell_type": "code",
      "metadata": {
        "noteable": {
          "cell_type": "code",
          "output_collection_id": "0c2ee8e5-21b1-415d-9f59-6f97d2b09b3c"
        },
        "ExecuteTime": {
          "end_time": "2023-07-11T05:03:59.081615+00:00",
          "start_time": "2023-07-11T05:03:09.642119+00:00"
        },
        "scrolled": false
      },
      "execution_count": null,
      "source": "# Function to create facet grids of each feature to quality\ndef plot_facet_grids(df, title):\n    features = df.columns.drop(['Unnamed: 0', 'quality'])\n    for feature in features:\n        g = sns.FacetGrid(df, col='quality', col_wrap=3, height=4, aspect=1)\n        g.map(sns.histplot, feature, kde=True, bins=30)\n        plt.suptitle(f'{title} - {feature} to Quality', y=1.02)\n        plt.show()\n\n# Create facet grids of each feature to quality for the Red Wine dataset\nplot_facet_grids(red_wine_df_clean, 'Red Wine Data')\n\n# Create facet grids of each feature to quality for the White Wine dataset\nplot_facet_grids(white_wine_df_clean, 'White Wine Data')",
      "outputs": []
    },
    {
      "id": "a0c01258-36df-4021-8de5-ad7e6dad2e58",
      "cell_type": "code",
      "metadata": {
        "noteable": {
          "cell_type": "code",
          "output_collection_id": "bf7d7ba7-63ba-48a7-8f68-8fee9a654fdc"
        },
        "ExecuteTime": {
          "end_time": "2023-07-11T05:07:21.568679+00:00",
          "start_time": "2023-07-11T05:07:21.404139+00:00"
        },
        "jupyter": {
          "outputs_hidden": false
        },
        "scrolled": false
      },
      "execution_count": null,
      "source": "# Correlation of features with quality for Red Wine dataset\nred_wine_corr_with_quality = red_wine_df_clean.drop(columns=['Unnamed: 0']).corr()['quality'].sort_values(ascending=False)\nprint('Red Wine Data - Correlation of Features with Quality:')\nprint(red_wine_corr_with_quality)\nprint('\\n')\n\n# Correlation of features with quality for White Wine dataset\nwhite_wine_corr_with_quality = white_wine_df_clean.drop(columns=['Unnamed: 0']).corr()['quality'].sort_values(ascending=False)\nprint('White Wine Data - Correlation of Features with Quality:')\nprint(white_wine_corr_with_quality)",
      "outputs": []
    },
    {
      "id": "82d4e7c9-b1a1-49cf-8b8b-bcefa73919dd",
      "cell_type": "code",
      "metadata": {
        "noteable": {
          "cell_type": "code",
          "output_collection_id": "ee6989e0-c5fc-4e36-9161-b64d6cfa81e9"
        },
        "ExecuteTime": {
          "end_time": "2023-07-11T05:10:34.807629+00:00",
          "start_time": "2023-07-11T05:10:27.307163+00:00"
        },
        "scrolled": false,
        "jupyter": {
          "outputs_hidden": false
        }
      },
      "execution_count": null,
      "source": "# Function to create scatter plots of each feature against quality\ndef plot_scatter_plots(df, title):\n    features = df.columns.drop(['Unnamed: 0', 'quality'])\n    for feature in features:\n        plt.figure(figsize=(10,6))\n        sns.scatterplot(data=df, x=feature, y='quality', alpha=0.5)\n        plt.title(f'{title} - {feature} vs Quality')\n        plt.show()\n\n# Create scatter plots of each feature against quality for the Red Wine dataset\nplot_scatter_plots(red_wine_df_clean, 'Red Wine Data')\n\n# Create scatter plots of each feature against quality for the White Wine dataset\nplot_scatter_plots(white_wine_df_clean, 'White Wine Data')",
      "outputs": []
    },
    {
      "id": "266f63ca-0399-44ec-af41-0dd6423d7332",
      "cell_type": "code",
      "metadata": {
        "noteable": {
          "cell_type": "code",
          "output_collection_id": "89f7343c-7d68-476e-ae98-f9a4f8792974"
        },
        "ExecuteTime": {
          "end_time": "2023-07-11T07:05:27.055473+00:00",
          "start_time": "2023-07-11T07:05:26.875167+00:00"
        }
      },
      "execution_count": null,
      "source": "# Function to create boxplots of each feature\ndef plot_boxplots(df, title):\n    features = df.columns.drop(['Unnamed: 0', 'quality'])\n    for feature in features:\n        plt.figure(figsize=(10,6))\n        sns.boxplot(data=df, x='quality', y=feature)\n        plt.title(f'{title} - Boxplot of {feature} by Quality')\n        plt.show()\n\n# Create boxplots of each feature by quality for the Red Wine dataset\nplot_boxplots(red_wine_df_clean, 'Red Wine Data')\n\n# Create boxplots of each feature by quality for the White Wine dataset\nplot_boxplots(white_wine_df_clean, 'White Wine Data')",
      "outputs": []
    },
    {
      "id": "272c47c5-88f6-42ea-acb4-14f145c8e233",
      "cell_type": "code",
      "metadata": {
        "noteable": {
          "cell_type": "code",
          "output_collection_id": "a5084171-cdd7-400a-9d57-a38aba66063c"
        },
        "ExecuteTime": {
          "end_time": "2023-07-11T07:06:00.478751+00:00",
          "start_time": "2023-07-11T07:06:00.295533+00:00"
        }
      },
      "execution_count": null,
      "source": "# Function to create boxplots of each feature\ndef plot_boxplots(df, title):\n    features = df.columns.drop(['Unnamed: 0', 'quality'])\n    for feature in features:\n        plt.figure(figsize=(10,6))\n        sns.boxplot(data=df, x='quality', y=feature)\n        plt.title(f'{title} - Boxplot of {feature} by Quality')\n        plt.show()\n\n# Create boxplots of each feature by quality for the Red Wine dataset\nplot_boxplots(red_wine_df, 'Red Wine Data')\n\n# Create boxplots of each feature by quality for the White Wine dataset\nplot_boxplots(white_wine_df, 'White Wine Data')",
      "outputs": []
    }
  ]
}